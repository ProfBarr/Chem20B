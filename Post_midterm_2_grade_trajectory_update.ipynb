{
  "cells": [
    {
      "cell_type": "markdown",
      "metadata": {
        "id": "view-in-github",
        "colab_type": "text"
      },
      "source": [
        "<a href=\"https://colab.research.google.com/github/ProfBarr/Chem20B/blob/main/Post_midterm_2_grade_trajectory_update.ipynb\" target=\"_parent\"><img src=\"https://colab.research.google.com/assets/colab-badge.svg\" alt=\"Open In Colab\"/></a>"
      ]
    },
    {
      "cell_type": "markdown",
      "metadata": {
        "id": "k6jWouIee_90"
      },
      "source": [
        "## Post Midterm Grade Trajectory\n",
        "**Purpose:** The purpose of this Google Colab is to help you assess your grade trajectory. Your grade is not confirmed until everything is in. I hope this tool helps you see the direction you are heading towards.\n",
        "\n",
        "-\tJust like with the previous notebooks, remember to run each cell by clicking the [ ] to the left of the cells. \n",
        "-\tFollow the instructions to the right of the # to calculate your trajectory.\n",
        "-\tThis notebook is only an estimation, use the values found within Bruinlearn and Gradescope.\n",
        "-\tI hope you are proud of how much you have learned in the past 10 weeks! #GrowthMindset"
      ]
    },
    {
      "cell_type": "code",
      "execution_count": 1,
      "metadata": {
        "id": "O-peS2hSe_94",
        "colab": {
          "base_uri": "https://localhost:8080/"
        },
        "outputId": "6829690d-1b71-4066-a141-4f7a4b0910dd"
      },
      "outputs": [
        {
          "output_type": "stream",
          "name": "stdout",
          "text": [
            "Your effective midterm score was 0.7823529411764706\n"
          ]
        }
      ],
      "source": [
        "### Enter the score/percentage you earned for the following ###\n",
        "\n",
        "homework_1 = 60# Value between 0 and 62\n",
        "homework_2 = 60# Value between 0 and 62\n",
        "homework_3 = 60# Value between 0 and 62\n",
        "quiz_1 = 17 # Value between 0 and 22 \n",
        "quiz_2 = 16 # Value between 0 and 24\n",
        "quiz_3 = 15 # Value between 0 and 22\n",
        "discussion_work =  9# How many discussion sections have you gone to?\n",
        "cs_percentage = 100 # What is the CS percentage on Bruinlearn?\n",
        "ls_percentage = 100 # What is the CS percentage on Bruinlearn?\n",
        "owl_percentage = 100 # What percentage do you have on the OWLV2 assignments?\n",
        "\n",
        "\n",
        "midterm_1 = 74 # Actual midterm score (0-100)\n",
        "group_midterm_1_score = 95 #Actual group midterm score (0-102)\n",
        "midterm_1_effective =(0.7*midterm_1/100 +0.3*group_midterm_1_score/100)\n",
        "midterm_2 = 75 # Actual midterm score (0-100)\n",
        "group_midterm_2_score = 93 #Actual group midterm score (0-102)\n",
        "midterm_2_effective = (0.8*midterm_2/100 +0.2*group_midterm_2_score/102)\n",
        "print(f\"Your effective midterm score was {midterm_2_effective}\")"
      ]
    },
    {
      "cell_type": "code",
      "execution_count": 2,
      "metadata": {
        "id": "_4BRSnvFe_96",
        "colab": {
          "base_uri": "https://localhost:8080/"
        },
        "outputId": "402f75e4-0eea-471f-a162-84d507538c24"
      },
      "outputs": [
        {
          "output_type": "stream",
          "name": "stdout",
          "text": [
            "Your tragectory is around 86%. That means that you are on track to earn some flavor of B. Great job! Keep up the hard work!\n",
            "Keep in mind that we are assuming what score you will earn on the final. Use the code below to assess how the final exam will change your class grade.\n"
          ]
        }
      ],
      "source": [
        "### Run these lines to approximate your grade tregectory ###\n",
        "\n",
        "### After you run the code scroll down to the bottom of the cell ###\n",
        "\n",
        "from IPython.display import HTML, display\n",
        "\n",
        "def set_css():\n",
        "  display(HTML('''\n",
        "  <style>\n",
        "    pre {\n",
        "        white-space: pre-wrap;\n",
        "    }\n",
        "  </style>\n",
        "  '''))\n",
        "get_ipython().events.register('pre_run_cell', set_css)\n",
        "\n",
        "\n",
        "def effective_discussion(participation):\n",
        "    if participation >= 8:\n",
        "        return 1\n",
        "    elif participation < 8 and participation > -.01:\n",
        "        return participation/8\n",
        "    else:\n",
        "        print(\"You may have the incorrect input for discussion work\")\n",
        "\n",
        "\n",
        "def effective_homework(homework_score):\n",
        "    if homework_score/62 > 0.8:\n",
        "        return 5\n",
        "    elif homework_score/62 > 0.7:\n",
        "        return 4\n",
        "    elif homework_score/62 > 0.6:\n",
        "        return 3\n",
        "    elif homework_score/62 > 0.5:\n",
        "        return 2\n",
        "    elif homework_score/62 > 0.01:\n",
        "        return 1\n",
        "    else:\n",
        "        return 0\n",
        "\n",
        "\n",
        "def approximate_score(owl_percentage, cs_percentage, ls_percentage, discussion_work, quiz_1, quiz_2, quiz_3, midterm_1_effective, midterm_2_effective, homework_1, homework_2, homework_3):\n",
        "    group1 = .05*(owl_percentage/100 + cs_percentage/100 +ls_percentage/100 + effective_discussion(discussion_work)) \n",
        "    group2 = (quiz_1/22 +quiz_2/24 +quiz_3/22)/3*.12 + midterm_1_effective*.14 + midterm_2_effective*.14 + midterm_1_effective/.95 * .26\n",
        "    group3 = (effective_homework(homework_1)/5+effective_homework(homework_2)/5+effective_homework(homework_3)/5)/3*.14\n",
        "    return group1 + group2 + group3\n",
        "\n",
        "\n",
        "def grade_tragectory(score):\n",
        "    if score > 0.88:\n",
        "        percent = int(score*100)\n",
        "        message = f\"Your tragectory is around {percent}%. That means that you are on track to earn some flavor of A. You're doing great! Keep up the hard work!\"\n",
        "        print(message)\n",
        "    elif score > 0.77:\n",
        "        percent = int(score*100)\n",
        "        message = f\"Your tragectory is around {percent}%. That means that you are on track to earn some flavor of B. Great job! Keep up the hard work!\"\n",
        "        print(message)\n",
        "    elif score > 0.68:\n",
        "        percent = int(score*100)\n",
        "        message = f\"Your tragectory is around {percent}%. That means that you are on track to pass earning at least a C. This is a perfectly fine score, however, if you want to change your tragectory, you are capable.\"\n",
        "        print(message)\n",
        "    else:\n",
        "        percent = int(score*100)\n",
        "        message = f\"Your tragectory is around {percent}%. That means that you are not on track to pass, so we should make a change to the study process. Check what value you need to earn on the final exam to pass this course.\"\n",
        "        print(message)\n",
        "\n",
        "def quiz3_switch(quiz3, individual_midterm2):\n",
        "  if quiz3/22 > individual_midterm2/100:\n",
        "    return quiz3\n",
        "  else:\n",
        "    return individual_midterm2/100*22\n",
        "\n",
        "\n",
        "quiz_3 = quiz3_switch(quiz_3,midterm_2)\n",
        "grade_tragectory(approximate_score(owl_percentage, cs_percentage, ls_percentage, discussion_work, quiz_1, quiz_2, quiz_3, midterm_1_effective, midterm_2_effective, homework_1, homework_2, homework_3))\n",
        "print(\"Keep in mind that we are assuming what score you will earn on the final. Use the code below to assess how the final exam will change your class grade.\")"
      ]
    },
    {
      "cell_type": "markdown",
      "source": [
        "# To see how your score changes based on your final exam, use the code below."
      ],
      "metadata": {
        "id": "ySoJxAPFkARe"
      }
    },
    {
      "cell_type": "code",
      "source": [
        "final_exam = .80\n",
        "\n",
        "def approximate_score(owl_percentage, cs_percentage, ls_percentage, discussion_work, quiz_1, quiz_2, quiz_3, midterm_1_effective, midterm_2_effective, homework_1, homework_2, homework_3,final_exam):\n",
        "    exam_values = [midterm_1_effective,midterm_2_effective,final_exam]\n",
        "    top_two_values = sorted(exam_values, reverse = True)[:2]\n",
        "    group1 = .05*(owl_percentage/100 + cs_percentage/100 +ls_percentage/100 + effective_discussion(discussion_work)) \n",
        "    group2 = (quiz_1/22 +quiz_2/24 +quiz_3/22)/3*.12 + sum(top_two_values)/2*.28 + final_exam *.26\n",
        "    group3 = (effective_homework(homework_1)/5+effective_homework(homework_2)/5+effective_homework(homework_3)/5)/3*.14\n",
        "    return group1 + group2 + group3\n",
        "\n",
        "grade_tragectory(approximate_score(owl_percentage, cs_percentage, ls_percentage, discussion_work, quiz_1, quiz_2, quiz_3, midterm_1_effective, midterm_2_effective, homework_1, homework_2, homework_3, final_exam))"
      ],
      "metadata": {
        "id": "knQY5RN9cUZL",
        "outputId": "8abbd6a0-565d-4b31-f726-cd08f5ce02b0",
        "colab": {
          "base_uri": "https://localhost:8080/",
          "height": 34
        }
      },
      "execution_count": 4,
      "outputs": [
        {
          "output_type": "display_data",
          "data": {
            "text/plain": [
              "<IPython.core.display.HTML object>"
            ],
            "text/html": [
              "\n",
              "  <style>\n",
              "    pre {\n",
              "        white-space: pre-wrap;\n",
              "    }\n",
              "  </style>\n",
              "  "
            ]
          },
          "metadata": {}
        },
        {
          "output_type": "stream",
          "name": "stdout",
          "text": [
            "Your tragectory is around 85%. That means that you are on track to earn some flavor of B. Great job! Keep up the hard work!\n"
          ]
        }
      ]
    },
    {
      "cell_type": "code",
      "source": [],
      "metadata": {
        "id": "lLxZdzAwhtDN"
      },
      "execution_count": null,
      "outputs": []
    }
  ],
  "metadata": {
    "kernelspec": {
      "display_name": "base",
      "language": "python",
      "name": "python3"
    },
    "language_info": {
      "codemirror_mode": {
        "name": "ipython",
        "version": 3
      },
      "file_extension": ".py",
      "mimetype": "text/x-python",
      "name": "python",
      "nbconvert_exporter": "python",
      "pygments_lexer": "ipython3",
      "version": "3.9.12"
    },
    "orig_nbformat": 4,
    "vscode": {
      "interpreter": {
        "hash": "ad2bdc8ecc057115af97d19610ffacc2b4e99fae6737bb82f5d7fb13d2f2c186"
      }
    },
    "colab": {
      "provenance": [],
      "include_colab_link": true
    }
  },
  "nbformat": 4,
  "nbformat_minor": 0
}