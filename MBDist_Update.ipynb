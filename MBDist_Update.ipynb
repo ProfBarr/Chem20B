{
  "cells": [
    {
      "cell_type": "markdown",
      "metadata": {
        "id": "view-in-github",
        "colab_type": "text"
      },
      "source": [
        "<a href=\"https://colab.research.google.com/github/ProfBarr/Chem20B/blob/Work/MBDist_Update.ipynb\" target=\"_parent\"><img src=\"https://colab.research.google.com/assets/colab-badge.svg\" alt=\"Open In Colab\"/></a>"
      ]
    },
    {
      "cell_type": "markdown",
      "metadata": {
        "id": "rdg7Nv3PZxor"
      },
      "source": [
        "# Maxwell-Boltzman Distribution"
      ]
    },
    {
      "cell_type": "code",
      "execution_count": 1,
      "metadata": {
        "id": "EEJOBygAZxov"
      },
      "outputs": [],
      "source": [
        "#Inputs\n",
        "import numpy as np\n",
        "from matplotlib import pyplot as plt\n",
        "from matplotlib.pyplot import figure\n",
        "from ipywidgets import interact, interactive"
      ]
    },
    {
      "cell_type": "markdown",
      "metadata": {
        "id": "uI9XVNhNZxow"
      },
      "source": [
        "## Function"
      ]
    },
    {
      "cell_type": "markdown",
      "metadata": {
        "id": "UxgaZIVYZxox"
      },
      "source": [
        "$$f(v) = 4\\pi \\bigg (\\frac{m}{2 \\pi k_{B} T}\\bigg)^{3/2}v^{2}\\exp\\bigg (\\frac{-m v^{2}}{2 k_{B}T}\\bigg)$$\n"
      ]
    },
    {
      "cell_type": "code",
      "execution_count": 24,
      "metadata": {
        "id": "wLsPPzdSZxox",
        "colab": {
          "base_uri": "https://localhost:8080/",
          "height": 324,
          "referenced_widgets": [
            "5c090dc7f8b847c8b1c014edd10df9c9",
            "38a032d9c0044008ad164005b7ec4fbd",
            "99417d10868b467498ac2df01a9f8911",
            "7b274a8d33684f04b1e3a572412aa830",
            "0bb6c08a93434f17beee045d76cf8d2d",
            "433a8cd7100f4c748dc14130589ad5f4",
            "5d52d0e0957749b383af408074a0bc35"
          ]
        },
        "outputId": "fc4e14c7-2008-427c-b00c-03b3d13df282"
      },
      "outputs": [
        {
          "output_type": "display_data",
          "data": {
            "text/plain": [
              "interactive(children=(IntSlider(value=635, description='Temperature', max=1200, min=70), Output()), _dom_class…"
            ],
            "application/vnd.jupyter.widget-view+json": {
              "version_major": 2,
              "version_minor": 0,
              "model_id": "5c090dc7f8b847c8b1c014edd10df9c9"
            }
          },
          "metadata": {}
        }
      ],
      "source": [
        "def boltz(v,t,mm): #Function shown above.\n",
        "    mstar=mm/Na/1000 #changes mass to mass of partcle\n",
        "    return 4*np.pi*(mstar/(2*np.pi*k*t))**(3/2)*v**2*np.exp(-(mstar*v*v)/(2*k*t))\n",
        "\n",
        "\n",
        "def plot_function(Temperature):\n",
        "  constant_temp_value = stationary_temp_value\n",
        "  plt.figure(1)\n",
        "  speed=np.arange(5000)\n",
        "  plt.plot(speed, boltz(speed, Temperature, mm), '-b', label = \"Changing Temperature\")\n",
        "  room_temp_plot = plt.plot(boltz(speed,constant_temp_value,28.02),'-g', label = f\"Constant Temperature {constant_temp_value} K\")\n",
        "  plt.xlabel('Velocity (m/s)', fontsize=18, fontname=\"Serif\")\n",
        "  plt.rc('xtick', labelsize=14)\n",
        "  plt.rc('ytick', labelsize=14)\n",
        "  plt.xticks(fontname=\"Serif\")\n",
        "  plt.yticks(fontname=\"Serif\")\n",
        "  plt.legend()\n",
        "  plt.ylim(-.0001, 0.0045)\n",
        "  plt.xlim(0,2000)\n",
        "  plt.ylabel('Proportion of Particles', fontsize=18,fontname=\"Serif\")\n",
        "  plt.show()\n",
        "\n",
        "Na= 6.022E23\n",
        "k= 1.381E-23\n",
        "mm = 28.02\n",
        "stationary_temp_value = 298\n",
        "\n",
        "interactive_plot = interactive(plot_function, Temperature = (70,1200))\n",
        "output = interactive_plot.children[-1]\n",
        "\n",
        "interactive_plot"
      ]
    },
    {
      "cell_type": "markdown",
      "source": [
        "## Calculate the average speed and energy at a temperature"
      ],
      "metadata": {
        "id": "aN97r-Yo2-vk"
      }
    },
    {
      "cell_type": "code",
      "execution_count": 6,
      "metadata": {
        "colab": {
          "base_uri": "https://localhost:8080/"
        },
        "id": "uqd06MZ8Zxo0",
        "outputId": "f18dd18e-4501-48bf-946c-5204a2ed89ad"
      },
      "outputs": [
        {
          "output_type": "stream",
          "name": "stdout",
          "text": [
            "The most probable velocity is 420 m/s.\n",
            "The average velocity is 474 m/s.\n",
            "The root mean square velocity is 515 m/s.\n"
          ]
        }
      ],
      "source": [
        "temp =298 #Temp of particles\n",
        "mm = 28.02 #molar mass of particles\n",
        "\n",
        "vmp = np.sqrt(2*k*temp*Na*1000/(mm))#most probable\n",
        "vav = np.sqrt(8*k*temp*Na*1000/(np.pi*mm))#average velocity\n",
        "vrms = np.sqrt(3*k*temp*Na*1000/(mm))#root mean square speed\n",
        "\n",
        "print(f\"The most probable velocity is {int(vmp)} m/s.\")\n",
        "print(f\"The average velocity is {int(vav)} m/s.\")\n",
        "print(f\"The root mean square velocity is {int(vrms)} m/s.\")"
      ]
    },
    {
      "cell_type": "code",
      "execution_count": 7,
      "metadata": {
        "colab": {
          "base_uri": "https://localhost:8080/"
        },
        "id": "7fDXTiJmZxo1",
        "outputId": "109d5b9e-581a-4f51-c108-dc0b600596b8"
      },
      "outputs": [
        {
          "output_type": "stream",
          "name": "stdout",
          "text": [
            "The average kinetic energy of our gas is 3716 J per mole.\n"
          ]
        }
      ],
      "source": [
        "eaverage = 3/2*(8.3145*temp) #Average KE of particles\n",
        "print(f\"The average kinetic energy of our gas is {int(eaverage)} J per mole.\")"
      ]
    }
  ],
  "metadata": {
    "kernelspec": {
      "display_name": "Python 3 (ipykernel)",
      "language": "python",
      "name": "python3"
    },
    "language_info": {
      "codemirror_mode": {
        "name": "ipython",
        "version": 3
      },
      "file_extension": ".py",
      "mimetype": "text/x-python",
      "name": "python",
      "nbconvert_exporter": "python",
      "pygments_lexer": "ipython3",
      "version": "3.9.6"
    },
    "toc": {
      "base_numbering": 1,
      "nav_menu": {},
      "number_sections": true,
      "sideBar": true,
      "skip_h1_title": false,
      "title_cell": "Table of Contents",
      "title_sidebar": "Contents",
      "toc_cell": false,
      "toc_position": {},
      "toc_section_display": true,
      "toc_window_display": false
    },
    "colab": {
      "provenance": [],
      "include_colab_link": true
    },
    "widgets": {
      "application/vnd.jupyter.widget-state+json": {
        "5c090dc7f8b847c8b1c014edd10df9c9": {
          "model_module": "@jupyter-widgets/controls",
          "model_name": "VBoxModel",
          "model_module_version": "1.5.0",
          "state": {
            "_dom_classes": [
              "widget-interact"
            ],
            "_model_module": "@jupyter-widgets/controls",
            "_model_module_version": "1.5.0",
            "_model_name": "VBoxModel",
            "_view_count": null,
            "_view_module": "@jupyter-widgets/controls",
            "_view_module_version": "1.5.0",
            "_view_name": "VBoxView",
            "box_style": "",
            "children": [
              "IPY_MODEL_38a032d9c0044008ad164005b7ec4fbd",
              "IPY_MODEL_99417d10868b467498ac2df01a9f8911"
            ],
            "layout": "IPY_MODEL_7b274a8d33684f04b1e3a572412aa830"
          }
        },
        "38a032d9c0044008ad164005b7ec4fbd": {
          "model_module": "@jupyter-widgets/controls",
          "model_name": "IntSliderModel",
          "model_module_version": "1.5.0",
          "state": {
            "_dom_classes": [],
            "_model_module": "@jupyter-widgets/controls",
            "_model_module_version": "1.5.0",
            "_model_name": "IntSliderModel",
            "_view_count": null,
            "_view_module": "@jupyter-widgets/controls",
            "_view_module_version": "1.5.0",
            "_view_name": "IntSliderView",
            "continuous_update": true,
            "description": "Temperature",
            "description_tooltip": null,
            "disabled": false,
            "layout": "IPY_MODEL_0bb6c08a93434f17beee045d76cf8d2d",
            "max": 1200,
            "min": 70,
            "orientation": "horizontal",
            "readout": true,
            "readout_format": "d",
            "step": 1,
            "style": "IPY_MODEL_433a8cd7100f4c748dc14130589ad5f4",
            "value": 635
          }
        },
        "99417d10868b467498ac2df01a9f8911": {
          "model_module": "@jupyter-widgets/output",
          "model_name": "OutputModel",
          "model_module_version": "1.0.0",
          "state": {
            "_dom_classes": [],
            "_model_module": "@jupyter-widgets/output",
            "_model_module_version": "1.0.0",
            "_model_name": "OutputModel",
            "_view_count": null,
            "_view_module": "@jupyter-widgets/output",
            "_view_module_version": "1.0.0",
            "_view_name": "OutputView",
            "layout": "IPY_MODEL_5d52d0e0957749b383af408074a0bc35",
            "msg_id": "",
            "outputs": [
              {
                "output_type": "display_data",
                "data": {
                  "text/plain": "<Figure size 432x288 with 1 Axes>",
                  "image/png": "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\n"
                },
                "metadata": {
                  "needs_background": "light"
                }
              }
            ]
          }
        },
        "7b274a8d33684f04b1e3a572412aa830": {
          "model_module": "@jupyter-widgets/base",
          "model_name": "LayoutModel",
          "model_module_version": "1.2.0",
          "state": {
            "_model_module": "@jupyter-widgets/base",
            "_model_module_version": "1.2.0",
            "_model_name": "LayoutModel",
            "_view_count": null,
            "_view_module": "@jupyter-widgets/base",
            "_view_module_version": "1.2.0",
            "_view_name": "LayoutView",
            "align_content": null,
            "align_items": null,
            "align_self": null,
            "border": null,
            "bottom": null,
            "display": null,
            "flex": null,
            "flex_flow": null,
            "grid_area": null,
            "grid_auto_columns": null,
            "grid_auto_flow": null,
            "grid_auto_rows": null,
            "grid_column": null,
            "grid_gap": null,
            "grid_row": null,
            "grid_template_areas": null,
            "grid_template_columns": null,
            "grid_template_rows": null,
            "height": null,
            "justify_content": null,
            "justify_items": null,
            "left": null,
            "margin": null,
            "max_height": null,
            "max_width": null,
            "min_height": null,
            "min_width": null,
            "object_fit": null,
            "object_position": null,
            "order": null,
            "overflow": null,
            "overflow_x": null,
            "overflow_y": null,
            "padding": null,
            "right": null,
            "top": null,
            "visibility": null,
            "width": null
          }
        },
        "0bb6c08a93434f17beee045d76cf8d2d": {
          "model_module": "@jupyter-widgets/base",
          "model_name": "LayoutModel",
          "model_module_version": "1.2.0",
          "state": {
            "_model_module": "@jupyter-widgets/base",
            "_model_module_version": "1.2.0",
            "_model_name": "LayoutModel",
            "_view_count": null,
            "_view_module": "@jupyter-widgets/base",
            "_view_module_version": "1.2.0",
            "_view_name": "LayoutView",
            "align_content": null,
            "align_items": null,
            "align_self": null,
            "border": null,
            "bottom": null,
            "display": null,
            "flex": null,
            "flex_flow": null,
            "grid_area": null,
            "grid_auto_columns": null,
            "grid_auto_flow": null,
            "grid_auto_rows": null,
            "grid_column": null,
            "grid_gap": null,
            "grid_row": null,
            "grid_template_areas": null,
            "grid_template_columns": null,
            "grid_template_rows": null,
            "height": null,
            "justify_content": null,
            "justify_items": null,
            "left": null,
            "margin": null,
            "max_height": null,
            "max_width": null,
            "min_height": null,
            "min_width": null,
            "object_fit": null,
            "object_position": null,
            "order": null,
            "overflow": null,
            "overflow_x": null,
            "overflow_y": null,
            "padding": null,
            "right": null,
            "top": null,
            "visibility": null,
            "width": null
          }
        },
        "433a8cd7100f4c748dc14130589ad5f4": {
          "model_module": "@jupyter-widgets/controls",
          "model_name": "SliderStyleModel",
          "model_module_version": "1.5.0",
          "state": {
            "_model_module": "@jupyter-widgets/controls",
            "_model_module_version": "1.5.0",
            "_model_name": "SliderStyleModel",
            "_view_count": null,
            "_view_module": "@jupyter-widgets/base",
            "_view_module_version": "1.2.0",
            "_view_name": "StyleView",
            "description_width": "",
            "handle_color": null
          }
        },
        "5d52d0e0957749b383af408074a0bc35": {
          "model_module": "@jupyter-widgets/base",
          "model_name": "LayoutModel",
          "model_module_version": "1.2.0",
          "state": {
            "_model_module": "@jupyter-widgets/base",
            "_model_module_version": "1.2.0",
            "_model_name": "LayoutModel",
            "_view_count": null,
            "_view_module": "@jupyter-widgets/base",
            "_view_module_version": "1.2.0",
            "_view_name": "LayoutView",
            "align_content": null,
            "align_items": null,
            "align_self": null,
            "border": null,
            "bottom": null,
            "display": null,
            "flex": null,
            "flex_flow": null,
            "grid_area": null,
            "grid_auto_columns": null,
            "grid_auto_flow": null,
            "grid_auto_rows": null,
            "grid_column": null,
            "grid_gap": null,
            "grid_row": null,
            "grid_template_areas": null,
            "grid_template_columns": null,
            "grid_template_rows": null,
            "height": null,
            "justify_content": null,
            "justify_items": null,
            "left": null,
            "margin": null,
            "max_height": null,
            "max_width": null,
            "min_height": null,
            "min_width": null,
            "object_fit": null,
            "object_position": null,
            "order": null,
            "overflow": null,
            "overflow_x": null,
            "overflow_y": null,
            "padding": null,
            "right": null,
            "top": null,
            "visibility": null,
            "width": null
          }
        }
      }
    }
  },
  "nbformat": 4,
  "nbformat_minor": 0
}