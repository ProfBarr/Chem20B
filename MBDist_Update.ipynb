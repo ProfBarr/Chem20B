{
  "cells": [
    {
      "cell_type": "markdown",
      "metadata": {
        "id": "view-in-github",
        "colab_type": "text"
      },
      "source": [
        "<a href=\"https://colab.research.google.com/github/ProfBarr/Chem20B/blob/Work/MBDist_Update.ipynb\" target=\"_parent\"><img src=\"https://colab.research.google.com/assets/colab-badge.svg\" alt=\"Open In Colab\"/></a>"
      ]
    },
    {
      "cell_type": "markdown",
      "metadata": {
        "id": "rdg7Nv3PZxor"
      },
      "source": [
        "# Maxwell-Boltzman Distribution"
      ]
    },
    {
      "cell_type": "code",
      "execution_count": 1,
      "metadata": {
        "id": "EEJOBygAZxov"
      },
      "outputs": [],
      "source": [
        "#Inputs\n",
        "import numpy as np\n",
        "from matplotlib import pyplot as plt\n",
        "from matplotlib.pyplot import figure\n",
        "from ipywidgets import interact, interactive"
      ]
    },
    {
      "cell_type": "markdown",
      "metadata": {
        "id": "uI9XVNhNZxow"
      },
      "source": [
        "## Function"
      ]
    },
    {
      "cell_type": "markdown",
      "metadata": {
        "id": "UxgaZIVYZxox"
      },
      "source": [
        "$$f(v) = 4\\pi \\bigg (\\frac{m}{2 \\pi k_{B} T}\\bigg)^{3/2}v^{2}\\exp\\bigg (\\frac{-m v^{2}}{2 k_{B}T}\\bigg)$$\n"
      ]
    },
    {
      "cell_type": "code",
      "execution_count": 5,
      "metadata": {
        "id": "wLsPPzdSZxox",
        "colab": {
          "base_uri": "https://localhost:8080/",
          "height": 324,
          "referenced_widgets": [
            "72266355a02c4be0acecb686af9132ba",
            "f21c79e01dbc432db96f24a523127c83",
            "0c5a3a4ac1c541e6b1c5f6a1969e4c13",
            "6fbee6762b964c40bfe4ebcddfb64368",
            "64b1fe56cf5243fc976c369c6795ace5",
            "3f973dee5b184c8eafe4fcd7e15a7647",
            "90d886ea690f43689bb6a118ff4b578e"
          ]
        },
        "outputId": "99ac122b-a3a6-42a4-b972-94344cf4a36a"
      },
      "outputs": [
        {
          "output_type": "display_data",
          "data": {
            "text/plain": [
              "interactive(children=(IntSlider(value=635, description='Temperature', max=1200, min=70), Output()), _dom_class…"
            ],
            "application/vnd.jupyter.widget-view+json": {
              "version_major": 2,
              "version_minor": 0,
              "model_id": "72266355a02c4be0acecb686af9132ba"
            }
          },
          "metadata": {}
        }
      ],
      "source": [
        "def boltz(v,t,mm): #Function shown above.\n",
        "    mstar=mm/Na/1000 #changes mass to mass of partcle\n",
        "    return 4*np.pi*(mstar/(2*np.pi*k*t))**(3/2)*v**2*np.exp(-(mstar*v*v)/(2*k*t))\n",
        "\n",
        "\n",
        "def plot_function(Temperature):\n",
        "  plt.figure(1)\n",
        "  speed=np.arange(5000)\n",
        "  plt.plot(speed, boltz(speed, Temperature, mm), '-b')\n",
        "  plt.plot(boltz(speed,298,28.02),'-g')\n",
        "  plt.xlabel('Velocity (m/s)', fontsize=18, fontname=\"Serif\")\n",
        "  plt.rc('xtick', labelsize=14)\n",
        "  plt.rc('ytick', labelsize=14)\n",
        "  plt.xticks(fontname=\"Serif\")\n",
        "  plt.yticks(fontname=\"Serif\")\n",
        "  plt.ylim(-.0001, 0.0045)\n",
        "  plt.xlim(0,2000)\n",
        "  plt.ylabel('Proportion of Particles', fontsize=18,fontname=\"Serif\")\n",
        "  #figure(num =None,figsize=(50,6), dpi=80, facecolor ='w', edgecolor='k')\n",
        "  plt.show()\n",
        "\n",
        "Na= 6.022E23\n",
        "k= 1.381E-23\n",
        "mm = 28.02\n",
        "\n",
        "interactive_plot = interactive(plot_function, Temperature = (70,1200))\n",
        "output = interactive_plot.children[-1]\n",
        "#output.layout.height = '50px'\n",
        "interactive_plot"
      ]
    },
    {
      "cell_type": "code",
      "execution_count": 6,
      "metadata": {
        "colab": {
          "base_uri": "https://localhost:8080/"
        },
        "id": "uqd06MZ8Zxo0",
        "outputId": "f18dd18e-4501-48bf-946c-5204a2ed89ad"
      },
      "outputs": [
        {
          "output_type": "stream",
          "name": "stdout",
          "text": [
            "The most probable velocity is 420 m/s.\n",
            "The average velocity is 474 m/s.\n",
            "The root mean square velocity is 515 m/s.\n"
          ]
        }
      ],
      "source": [
        "temp =298 #Temp of particles\n",
        "mm = 28.02 #molar mass of particles\n",
        "\n",
        "vmp = np.sqrt(2*k*temp*Na*1000/(mm))#most probable\n",
        "vav = np.sqrt(8*k*temp*Na*1000/(np.pi*mm))#average velocity\n",
        "vrms = np.sqrt(3*k*temp*Na*1000/(mm))#root mean square speed\n",
        "\n",
        "print(f\"The most probable velocity is {int(vmp)} m/s.\")\n",
        "print(f\"The average velocity is {int(vav)} m/s.\")\n",
        "print(f\"The root mean square velocity is {int(vrms)} m/s.\")"
      ]
    },
    {
      "cell_type": "code",
      "execution_count": 7,
      "metadata": {
        "colab": {
          "base_uri": "https://localhost:8080/"
        },
        "id": "7fDXTiJmZxo1",
        "outputId": "109d5b9e-581a-4f51-c108-dc0b600596b8"
      },
      "outputs": [
        {
          "output_type": "stream",
          "name": "stdout",
          "text": [
            "The average kinetic energy of our gas is 3716 J per mole.\n"
          ]
        }
      ],
      "source": [
        "eaverage = 3/2*(8.3145*temp) #Average KE of particles\n",
        "print(f\"The average kinetic energy of our gas is {int(eaverage)} J per mole.\")"
      ]
    },
    {
      "cell_type": "code",
      "source": [],
      "metadata": {
        "id": "Ga2uIhDL0MNq"
      },
      "execution_count": null,
      "outputs": []
    }
  ],
  "metadata": {
    "kernelspec": {
      "display_name": "Python 3 (ipykernel)",
      "language": "python",
      "name": "python3"
    },
    "language_info": {
      "codemirror_mode": {
        "name": "ipython",
        "version": 3
      },
      "file_extension": ".py",
      "mimetype": "text/x-python",
      "name": "python",
      "nbconvert_exporter": "python",
      "pygments_lexer": "ipython3",
      "version": "3.9.6"
    },
    "toc": {
      "base_numbering": 1,
      "nav_menu": {},
      "number_sections": true,
      "sideBar": true,
      "skip_h1_title": false,
      "title_cell": "Table of Contents",
      "title_sidebar": "Contents",
      "toc_cell": false,
      "toc_position": {},
      "toc_section_display": true,
      "toc_window_display": false
    },
    "colab": {
      "provenance": [],
      "include_colab_link": true
    },
    "widgets": {
      "application/vnd.jupyter.widget-state+json": {
        "72266355a02c4be0acecb686af9132ba": {
          "model_module": "@jupyter-widgets/controls",
          "model_name": "VBoxModel",
          "model_module_version": "1.5.0",
          "state": {
            "_dom_classes": [
              "widget-interact"
            ],
            "_model_module": "@jupyter-widgets/controls",
            "_model_module_version": "1.5.0",
            "_model_name": "VBoxModel",
            "_view_count": null,
            "_view_module": "@jupyter-widgets/controls",
            "_view_module_version": "1.5.0",
            "_view_name": "VBoxView",
            "box_style": "",
            "children": [
              "IPY_MODEL_f21c79e01dbc432db96f24a523127c83",
              "IPY_MODEL_0c5a3a4ac1c541e6b1c5f6a1969e4c13"
            ],
            "layout": "IPY_MODEL_6fbee6762b964c40bfe4ebcddfb64368"
          }
        },
        "f21c79e01dbc432db96f24a523127c83": {
          "model_module": "@jupyter-widgets/controls",
          "model_name": "IntSliderModel",
          "model_module_version": "1.5.0",
          "state": {
            "_dom_classes": [],
            "_model_module": "@jupyter-widgets/controls",
            "_model_module_version": "1.5.0",
            "_model_name": "IntSliderModel",
            "_view_count": null,
            "_view_module": "@jupyter-widgets/controls",
            "_view_module_version": "1.5.0",
            "_view_name": "IntSliderView",
            "continuous_update": true,
            "description": "Temperature",
            "description_tooltip": null,
            "disabled": false,
            "layout": "IPY_MODEL_64b1fe56cf5243fc976c369c6795ace5",
            "max": 1200,
            "min": 70,
            "orientation": "horizontal",
            "readout": true,
            "readout_format": "d",
            "step": 1,
            "style": "IPY_MODEL_3f973dee5b184c8eafe4fcd7e15a7647",
            "value": 70
          }
        },
        "0c5a3a4ac1c541e6b1c5f6a1969e4c13": {
          "model_module": "@jupyter-widgets/output",
          "model_name": "OutputModel",
          "model_module_version": "1.0.0",
          "state": {
            "_dom_classes": [],
            "_model_module": "@jupyter-widgets/output",
            "_model_module_version": "1.0.0",
            "_model_name": "OutputModel",
            "_view_count": null,
            "_view_module": "@jupyter-widgets/output",
            "_view_module_version": "1.0.0",
            "_view_name": "OutputView",
            "layout": "IPY_MODEL_90d886ea690f43689bb6a118ff4b578e",
            "msg_id": "",
            "outputs": [
              {
                "output_type": "display_data",
                "data": {
                  "text/plain": "<Figure size 432x288 with 1 Axes>",
                  "image/png": "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\n"
                },
                "metadata": {
                  "needs_background": "light"
                }
              }
            ]
          }
        },
        "6fbee6762b964c40bfe4ebcddfb64368": {
          "model_module": "@jupyter-widgets/base",
          "model_name": "LayoutModel",
          "model_module_version": "1.2.0",
          "state": {
            "_model_module": "@jupyter-widgets/base",
            "_model_module_version": "1.2.0",
            "_model_name": "LayoutModel",
            "_view_count": null,
            "_view_module": "@jupyter-widgets/base",
            "_view_module_version": "1.2.0",
            "_view_name": "LayoutView",
            "align_content": null,
            "align_items": null,
            "align_self": null,
            "border": null,
            "bottom": null,
            "display": null,
            "flex": null,
            "flex_flow": null,
            "grid_area": null,
            "grid_auto_columns": null,
            "grid_auto_flow": null,
            "grid_auto_rows": null,
            "grid_column": null,
            "grid_gap": null,
            "grid_row": null,
            "grid_template_areas": null,
            "grid_template_columns": null,
            "grid_template_rows": null,
            "height": null,
            "justify_content": null,
            "justify_items": null,
            "left": null,
            "margin": null,
            "max_height": null,
            "max_width": null,
            "min_height": null,
            "min_width": null,
            "object_fit": null,
            "object_position": null,
            "order": null,
            "overflow": null,
            "overflow_x": null,
            "overflow_y": null,
            "padding": null,
            "right": null,
            "top": null,
            "visibility": null,
            "width": null
          }
        },
        "64b1fe56cf5243fc976c369c6795ace5": {
          "model_module": "@jupyter-widgets/base",
          "model_name": "LayoutModel",
          "model_module_version": "1.2.0",
          "state": {
            "_model_module": "@jupyter-widgets/base",
            "_model_module_version": "1.2.0",
            "_model_name": "LayoutModel",
            "_view_count": null,
            "_view_module": "@jupyter-widgets/base",
            "_view_module_version": "1.2.0",
            "_view_name": "LayoutView",
            "align_content": null,
            "align_items": null,
            "align_self": null,
            "border": null,
            "bottom": null,
            "display": null,
            "flex": null,
            "flex_flow": null,
            "grid_area": null,
            "grid_auto_columns": null,
            "grid_auto_flow": null,
            "grid_auto_rows": null,
            "grid_column": null,
            "grid_gap": null,
            "grid_row": null,
            "grid_template_areas": null,
            "grid_template_columns": null,
            "grid_template_rows": null,
            "height": null,
            "justify_content": null,
            "justify_items": null,
            "left": null,
            "margin": null,
            "max_height": null,
            "max_width": null,
            "min_height": null,
            "min_width": null,
            "object_fit": null,
            "object_position": null,
            "order": null,
            "overflow": null,
            "overflow_x": null,
            "overflow_y": null,
            "padding": null,
            "right": null,
            "top": null,
            "visibility": null,
            "width": null
          }
        },
        "3f973dee5b184c8eafe4fcd7e15a7647": {
          "model_module": "@jupyter-widgets/controls",
          "model_name": "SliderStyleModel",
          "model_module_version": "1.5.0",
          "state": {
            "_model_module": "@jupyter-widgets/controls",
            "_model_module_version": "1.5.0",
            "_model_name": "SliderStyleModel",
            "_view_count": null,
            "_view_module": "@jupyter-widgets/base",
            "_view_module_version": "1.2.0",
            "_view_name": "StyleView",
            "description_width": "",
            "handle_color": null
          }
        },
        "90d886ea690f43689bb6a118ff4b578e": {
          "model_module": "@jupyter-widgets/base",
          "model_name": "LayoutModel",
          "model_module_version": "1.2.0",
          "state": {
            "_model_module": "@jupyter-widgets/base",
            "_model_module_version": "1.2.0",
            "_model_name": "LayoutModel",
            "_view_count": null,
            "_view_module": "@jupyter-widgets/base",
            "_view_module_version": "1.2.0",
            "_view_name": "LayoutView",
            "align_content": null,
            "align_items": null,
            "align_self": null,
            "border": null,
            "bottom": null,
            "display": null,
            "flex": null,
            "flex_flow": null,
            "grid_area": null,
            "grid_auto_columns": null,
            "grid_auto_flow": null,
            "grid_auto_rows": null,
            "grid_column": null,
            "grid_gap": null,
            "grid_row": null,
            "grid_template_areas": null,
            "grid_template_columns": null,
            "grid_template_rows": null,
            "height": null,
            "justify_content": null,
            "justify_items": null,
            "left": null,
            "margin": null,
            "max_height": null,
            "max_width": null,
            "min_height": null,
            "min_width": null,
            "object_fit": null,
            "object_position": null,
            "order": null,
            "overflow": null,
            "overflow_x": null,
            "overflow_y": null,
            "padding": null,
            "right": null,
            "top": null,
            "visibility": null,
            "width": null
          }
        }
      }
    }
  },
  "nbformat": 4,
  "nbformat_minor": 0
}