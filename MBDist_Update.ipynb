{
  "cells": [
    {
      "cell_type": "markdown",
      "metadata": {
        "id": "view-in-github",
        "colab_type": "text"
      },
      "source": [
        "<a href=\"https://colab.research.google.com/github/ProfBarr/Chem20B/blob/ready_for_class/MBDist_Update.ipynb\" target=\"_parent\"><img src=\"https://colab.research.google.com/assets/colab-badge.svg\" alt=\"Open In Colab\"/></a>"
      ]
    },
    {
      "cell_type": "markdown",
      "metadata": {
        "id": "rdg7Nv3PZxor"
      },
      "source": [
        "# Maxwell-Boltzman Distribution"
      ]
    },
    {
      "cell_type": "code",
      "execution_count": 1,
      "metadata": {
        "id": "EEJOBygAZxov"
      },
      "outputs": [],
      "source": [
        "#Inputs\n",
        "import numpy as np\n",
        "from matplotlib import pyplot as plt\n",
        "from matplotlib.pyplot import figure\n",
        "from ipywidgets import interact, interactive"
      ]
    },
    {
      "cell_type": "markdown",
      "metadata": {
        "id": "uI9XVNhNZxow"
      },
      "source": [
        "## Function"
      ]
    },
    {
      "cell_type": "markdown",
      "metadata": {
        "id": "UxgaZIVYZxox"
      },
      "source": [
        "$$f(v) = \\frac{4}{\\sqrt{\\pi}} \\bigg (\\frac{m}{2 \\pi k_{B} T}\\bigg)^{3/2}v^{2}\\exp\\bigg (\\frac{-m v^{2}}{2 k_{B}T}\\bigg)$$\n"
      ]
    },
    {
      "cell_type": "code",
      "execution_count": 7,
      "metadata": {
        "id": "wLsPPzdSZxox",
        "colab": {
          "base_uri": "https://localhost:8080/",
          "height": 329,
          "referenced_widgets": [
            "0594eae27bf7488f86d3896830fcc321",
            "a778a7464efd4af282300aaa968c962a",
            "95a140cff7a7485eaf19ab4e47f2b806",
            "b3da2edc30074105834a5c1fcfe58db9",
            "815214da36dd45ac84821b8ace09a142",
            "40e8b4f60bf24368bff17eb278551a51",
            "4d6070ce70214290872f1797832568d3"
          ]
        },
        "outputId": "9c71e82f-b337-44fb-9bd2-2829e07d757b"
      },
      "outputs": [
        {
          "output_type": "display_data",
          "data": {
            "text/plain": [
              "interactive(children=(IntSlider(value=635, description='Temperature', max=1200, min=70), Output()), _dom_class…"
            ],
            "application/vnd.jupyter.widget-view+json": {
              "version_major": 2,
              "version_minor": 0,
              "model_id": "0594eae27bf7488f86d3896830fcc321"
            }
          },
          "metadata": {}
        }
      ],
      "source": [
        "def boltz(v,t,mm): #Function shown above.\n",
        "    mstar=mm/Na/1000 #changes mass to mass of partcle\n",
        "    return 4/np.sqrt(np.pi)*(mstar/(2*np.pi*k*t))**(3/2)*v**2*np.exp(-(mstar*v*v)/(2*k*t))\n",
        "\n",
        "\n",
        "def plot_function(Temperature):\n",
        "  constant_temp_value = stationary_temp_value\n",
        "  plt.figure(1)\n",
        "  speed=np.arange(5000)\n",
        "  plt.plot(speed, boltz(speed, Temperature, mm), '-b', label = \"Changing Temperature\")\n",
        "  room_temp_plot = plt.plot(boltz(speed,constant_temp_value,28.02),'-g', label = f\"Constant Temperature {constant_temp_value} K\")\n",
        "  plt.xlabel('Velocity (m/s)', fontsize=18, fontname=\"Serif\")\n",
        "  plt.rc('xtick', labelsize=14)\n",
        "  plt.rc('ytick', labelsize=14)\n",
        "  plt.xticks(fontname=\"Serif\")\n",
        "  plt.yticks(fontname=\"Serif\")\n",
        "  plt.legend()\n",
        "  plt.ylim(-.0001, 0.0008)\n",
        "  plt.xlim(0,2000)\n",
        "  plt.ylabel('Proportion of Particles', fontsize=18,fontname=\"Serif\")\n",
        "  plt.show()\n",
        "\n",
        "Na= 6.022E23\n",
        "k= 1.381E-23\n",
        "mm = 28.02\n",
        "stationary_temp_value = 298\n",
        "\n",
        "interactive_plot = interactive(plot_function, Temperature = (70,1200))\n",
        "output = interactive_plot.children[-1]\n",
        "\n",
        "interactive_plot"
      ]
    },
    {
      "cell_type": "markdown",
      "source": [
        "## Calculate the average speed and energy at a temperature"
      ],
      "metadata": {
        "id": "aN97r-Yo2-vk"
      }
    },
    {
      "cell_type": "code",
      "execution_count": null,
      "metadata": {
        "colab": {
          "base_uri": "https://localhost:8080/"
        },
        "id": "uqd06MZ8Zxo0",
        "outputId": "f18dd18e-4501-48bf-946c-5204a2ed89ad"
      },
      "outputs": [
        {
          "output_type": "stream",
          "name": "stdout",
          "text": [
            "The most probable velocity is 420 m/s.\n",
            "The average velocity is 474 m/s.\n",
            "The root mean square velocity is 515 m/s.\n"
          ]
        }
      ],
      "source": [
        "temp =298 #Temp of particles\n",
        "mm = 28.02 #molar mass of particles\n",
        "\n",
        "vmp = np.sqrt(2*k*temp*Na*1000/(mm))#most probable\n",
        "vav = np.sqrt(8*k*temp*Na*1000/(np.pi*mm))#average velocity\n",
        "vrms = np.sqrt(3*k*temp*Na*1000/(mm))#root mean square speed\n",
        "\n",
        "print(f\"The most probable velocity is {int(vmp)} m/s.\")\n",
        "print(f\"The average velocity is {int(vav)} m/s.\")\n",
        "print(f\"The root mean square velocity is {int(vrms)} m/s.\")"
      ]
    },
    {
      "cell_type": "code",
      "execution_count": null,
      "metadata": {
        "colab": {
          "base_uri": "https://localhost:8080/"
        },
        "id": "7fDXTiJmZxo1",
        "outputId": "109d5b9e-581a-4f51-c108-dc0b600596b8"
      },
      "outputs": [
        {
          "output_type": "stream",
          "name": "stdout",
          "text": [
            "The average kinetic energy of our gas is 3716 J per mole.\n"
          ]
        }
      ],
      "source": [
        "eaverage = 3/2*(8.3145*temp) #Average KE of particles\n",
        "print(f\"The average kinetic energy of our gas is {int(eaverage)} J per mole.\")"
      ]
    }
  ],
  "metadata": {
    "kernelspec": {
      "display_name": "Python 3 (ipykernel)",
      "language": "python",
      "name": "python3"
    },
    "language_info": {
      "codemirror_mode": {
        "name": "ipython",
        "version": 3
      },
      "file_extension": ".py",
      "mimetype": "text/x-python",
      "name": "python",
      "nbconvert_exporter": "python",
      "pygments_lexer": "ipython3",
      "version": "3.9.6"
    },
    "toc": {
      "base_numbering": 1,
      "nav_menu": {},
      "number_sections": true,
      "sideBar": true,
      "skip_h1_title": false,
      "title_cell": "Table of Contents",
      "title_sidebar": "Contents",
      "toc_cell": false,
      "toc_position": {},
      "toc_section_display": true,
      "toc_window_display": false
    },
    "colab": {
      "provenance": [],
      "include_colab_link": true
    },
    "widgets": {
      "application/vnd.jupyter.widget-state+json": {
        "0594eae27bf7488f86d3896830fcc321": {
          "model_module": "@jupyter-widgets/controls",
          "model_name": "VBoxModel",
          "model_module_version": "1.5.0",
          "state": {
            "_dom_classes": [
              "widget-interact"
            ],
            "_model_module": "@jupyter-widgets/controls",
            "_model_module_version": "1.5.0",
            "_model_name": "VBoxModel",
            "_view_count": null,
            "_view_module": "@jupyter-widgets/controls",
            "_view_module_version": "1.5.0",
            "_view_name": "VBoxView",
            "box_style": "",
            "children": [
              "IPY_MODEL_a778a7464efd4af282300aaa968c962a",
              "IPY_MODEL_95a140cff7a7485eaf19ab4e47f2b806"
            ],
            "layout": "IPY_MODEL_b3da2edc30074105834a5c1fcfe58db9"
          }
        },
        "a778a7464efd4af282300aaa968c962a": {
          "model_module": "@jupyter-widgets/controls",
          "model_name": "IntSliderModel",
          "model_module_version": "1.5.0",
          "state": {
            "_dom_classes": [],
            "_model_module": "@jupyter-widgets/controls",
            "_model_module_version": "1.5.0",
            "_model_name": "IntSliderModel",
            "_view_count": null,
            "_view_module": "@jupyter-widgets/controls",
            "_view_module_version": "1.5.0",
            "_view_name": "IntSliderView",
            "continuous_update": true,
            "description": "Temperature",
            "description_tooltip": null,
            "disabled": false,
            "layout": "IPY_MODEL_815214da36dd45ac84821b8ace09a142",
            "max": 1200,
            "min": 70,
            "orientation": "horizontal",
            "readout": true,
            "readout_format": "d",
            "step": 1,
            "style": "IPY_MODEL_40e8b4f60bf24368bff17eb278551a51",
            "value": 70
          }
        },
        "95a140cff7a7485eaf19ab4e47f2b806": {
          "model_module": "@jupyter-widgets/output",
          "model_name": "OutputModel",
          "model_module_version": "1.0.0",
          "state": {
            "_dom_classes": [],
            "_model_module": "@jupyter-widgets/output",
            "_model_module_version": "1.0.0",
            "_model_name": "OutputModel",
            "_view_count": null,
            "_view_module": "@jupyter-widgets/output",
            "_view_module_version": "1.0.0",
            "_view_name": "OutputView",
            "layout": "IPY_MODEL_4d6070ce70214290872f1797832568d3",
            "msg_id": "",
            "outputs": [
              {
                "output_type": "display_data",
                "data": {
                  "text/plain": "<Figure size 432x288 with 1 Axes>",
                  "image/png": "iVBORw0KGgoAAAANSUhEUgAAAbwAAAEYCAYAAAAnPUMnAAAABHNCSVQICAgIfAhkiAAAAAlwSFlzAAALEgAACxIB0t1+/AAAADh0RVh0U29mdHdhcmUAbWF0cGxvdGxpYiB2ZXJzaW9uMy4yLjIsIGh0dHA6Ly9tYXRwbG90bGliLm9yZy+WH4yJAAAgAElEQVR4nOzdd3gU5fbA8e8JLYD0KiJVkZ5IAhKagAIKiKKAXVAv6FUU6xW9YAWxiz8LCKJYUFEUREUpIgICV4pBASnSBJUuJXTI+f0xs7jE7GYn2c1uwvk8zzzL7px55yxiTmbmLaKqGGOMMfldXLQTMMYYY3KDFTxjjDGnBCt4xhhjTglW8IwxxpwSrOAZY4w5JVjBM8YYc0qIesETkW4islBEZovI9yKSnEV8SREZ6x6zRESeFpGCGWJOF5HPRGS+G3NfJu3UFZGZIjJHRBaLyPUZ9ouIDBKRpSLynYgsEpF+4fnWxhhjclvBrEMiR0SSgPeBZqq6QkS6AlNFpIGqbglw2Fhgv6o2FZHCwCzgceAht8044HPgK1UdLCKlgCUisldVR7kxpwHTgMdUdYyIVAV+EpFtqjrVPc9NwP1AfVX9XUTOBJaJyO+q+mX4/zaMMcZEUrSv8B4EpqrqCgBV/QLYCtyeWbCINAS6A8+48UeA4cBdbhED6AwkAs+7MXuA14FBIiJuTB+gKPCWG7MZ+BAY5He6RGClqv7uxmwCVgEdc/qljTHG5L5oF7wLgUUZPlsIdAgSfwhYliG+KNDKL2atqu7OEHMmcI5fzBJVTc8Q00JEirnvPwPqiUgjABFJABriFGRjjDF5TNQKnoiUBUoBf2bYtQWoFeCwWsBWPXk+tC1++3yvmbUZSkwcUANAVWcANwIzRWQFsARYALwW8EsZY4yJWdF8hlfcfT2c4fPDQDEyVzxAPH7HhCVGRC4GRgOdVHWhiNQErgYOZpaY26GlH0Dx4sWT6tatG+ArGGOMyczixYt3qGqFSLUfzYK3330tkuHzIsCBIMdkFo/fMfuBkiHEZNXOMOAzVV0IoKrrRaQO8Crwr4yJuR1iRgEkJyfrokUZ79QaY4wJRkQ2RrL9qN3SVNVdwG6gcoZdlYG1AQ5bB1T063zii8fvmHUB2gwlJh3Y4L6v4/dnn/XAFQFyM8YYE8Oi3WllBpBx3F2y+3lmpuN0UGmQIf4g8L1fzFkiUjpDzCZVXeUX08QdwuAfM09VfVd4vwOnZzj/6QS++jTGGBPDol3wngI6iUg9ABHpjFNUXnXfDxGRZSISD6Cqy4GJOOPjEJFCwABguKqmuW1+BaQCd7sxJXGerQ3xO+/bOL09e7sxZwBXZYh5E+gpItXdmOpAL+CjMH5/Y4wxuSSqA89VdbGIXAu8IyIHgQI4nUR8vSrjcTqR+N/C7AO8LCIL3fgZwMN+baaLSDdgpIjMd9sY5Rt07sakiUhHYISI3ITTieVuv0HnAM8CCkwUkQM4zwVf4+SiaEyuOnr0KJs3b+bQoUPRTsWYbIuPj6dq1aoUKlQoV88rtuJ5+FmnFRMp69evp0SJEpQrV46TH2UbkzeoKjt37mTfvn3UrFnzpH0islhVg04vmRPRvqVpjPHg0KFDVuxMniYilCtXLip3KXJ8S1NE2gGlgZnuNF7GmAiyYmfyumj9Gw75Ck9EbhKR4+6sI77PPsF5hvYJsEpEakcgR2OMMSbHvNzS7IHTc7EFgIhchDOR8+fAJTjDAh4Nc37GmBizZcsWrrrqKmrXrk1SUhKdO3dm9erVzJo1i65du0b8/J07d2b37t1ZBwbx888/k5iYSGJiImXLlqVmzZokJiZy4YUXhinL8Jo0aRIrVqzIOtAE5eWWZn3gClX1Ta11I7APuF5V94nIXJzhAMaYfEpV6d69O7179+bDDz8EYOnSpWzdmntzqk+ZMiXHbTRq1IjUVOfHVZ8+fejatSs9evTIcbs5cfz4cQoUKJDpvkmTJtG1a1fq168fcnvHjh2jYMGodsSPOV6u8Ar5ip07Lu5i4GNV3QcnluEpHP4UjTGx4ttvv6VQoULceuutJz5LSEigdevWAKSlpdGjRw/q1q3Ltddei68X+OOPP07Tpk1p2LAh/fr1O/F527ZteeCBB2jWrBl16tRhzpw5ABw4cIBevXpRv359unfvznnnnYev53ONGjXYsWMHGzZsoF69evTt25cGDRrQsWNHDh50fh9fuHAhjRs3JjExkfvvv5+GDRuG9P2mTZtGSkoKTZo0oWfPnqSlpZ0454MPPkhiYiLJycksWbKETp06Ubt2bUaOHAnArFmzaNOmDV26dOGcc87h1ltvJT09Pct2H3jgAZo0acLHH3/M6NGjadq0KQkJCVxxxRUcOHCAefPmMXnyZO6//34SExNZu3Ytbdu2PfH3sWPHDmrUqAHA2LFj6datG+3bt+eCCy5g//793HTTTTRr1oxzzz2Xzz77LBv/1fMPL+V/j4jUVtW1wHU4Y9c+9O0UkfL8c0JmY0yE3HUXpEbgnkpiIgwfnvm+ZcuWkZSUFPDYH3/8keXLl1OlShVatmzJ999/T6tWrejfvz8PP+wMl73++uv54osvuOSSSwDnSuSHH35gypQpPPbYY8yYMYPXXnuNMmXKsGLFCpYtW0ZiYmKm51uzZg0ffPABo0ePplevXnzyySdcd9113HjjjYwePZqUlBQGDhwY0vfesWMHQ4YMYcaMGRQvXpynn36aF1544UTe1apVIzU1lbvvvps+ffrw/fffc+jQIRo2bHjiF4AffviBFStWUL16dS666CI+/fRT2rZtG7TdcuXKsWTJEgB27txJ3759ARg0aBBjxozhjjvuoFu3biFfhS5ZsoSffvqJsmXL8tBDD9G+fXvefPNNdu/eTbNmzbjwwgspXrx4lu3kR14K3tvAtyLyP6ALsMJdQse3cvljwOLwp2iMySuaNWtG1apVAUhMTGTDhg20atWKb7/9lmeeeYYDBw6wa9cuGjRocKLgXX755QAkJSWxYcMGAObOncuAAQMAaNiwIY0bN870fL5nb/7H7969m3379pGSkgLANddcwxdffJFl7gsWLGDFihW0bNkSgCNHjpxoA6Bbt26Aczs0LS2NEiVKUKJECYoUKXLimWKzZs2oVctZhezqq69m7ty5xMfHB233yiuvPPHnZcuWMWjQIHbv3k1aWhqdOnXKMu+MOnToQNmyZQHnynLy5Mk899xzgDOs5bfffqNevXqe280PvBS8Z3HmsewGzMaZ0gt3PsoJbkz/sGZnsk0VDh+G+PhoZ2IiJdBVWCQ1aNCACRMmBNxfpMjfi5AUKFCAY8eOcejQIW677TYWLVrEmWeeyaOPPnrSGCzfMb54LzKez3dLMztUlQ4dOvDBBx8EPVdcXNxJ542LizuRd8bu9iKSZbv+V1t9+vRh0qRJJCQkMHbsWGbNmpXpMQULFjxxuzTjeDb/9lSVTz75hHPOOQfj4Rmeqqar6qOq2kRVL/JNxOx+XtPdvoxcqiZUEydCtWpQtCi0bw/uL83G5Fj79u05fPgwo0admKmPn3766cSzt8z4fiCXL1+etLS0oAXTp2XLlnz0kTNt7YoVK/j5559DzrF06dKUKFGC//3vfwAnOtdkpXnz5nz//ff8+uuvAOzfv5/Vq1eHfF5wbmmuX7+e9PR0xo8fT6tWrTy1u2/fPk4//XSOHj3KuHHjTnxeokQJ9u3bd+J9jRo1WLzYuaEW7O+zU6dOvPzyyyeemf7444+evk9+k62ZVkSksnsb03eFZ2LE119Djx5QsSIMHAhLlkCbNrBjR7QzM/mBiDBx4kRmzJhB7dq1adCgAQ8++CCVK2dcbetvpUuXpm/fvjRs2JBOnTrRtGnTLM9z2223sX37durXr8+gQYNo0KABpUqVCjnPMWPG0LdvXxITE9m/f39Ix1aoUIGxY8dy9dVX07hxY1JSUli5cmXI5wRo2rQp/fv3p169etSsWZPu3bt7aveJJ57gvPPOo2XLlvgvIn3VVVfx7LPPcu6557J27Vruu+8+RowYwbnnnsuOIP9zDx48mKNHj9K4cWMaNGjA4MGDPX2ffEdVQ96AC3GGHhwH9rifXQAsxZn02VN7+XVLSkrSaNizR7VSJdXGjVX37XM+W7RItUgR1UsvjUpKJsxWrFgR7RRyxbFjx/TgwYOqqvrrr79qjRo19PDhwyEfv8/3P4CqDhs2TO+8886w55jRt99+q126dIn4efKLzP4tA4s0gj+bQ36GJyKtgCnAVpwleHxPXRcC44APRaS7qs4KTyk2Xj39NGzbBp9/Dqed5nyWlASPPeZc7c2YATE6rtaYkxw4cIB27dpx9OhRVJXXXnuNwoVDH/X05ZdfMmzYMI4dO0b16tUZO3Zs5JI1eUbIqyWIyFRgNc4yOsdE5A9VreK3v4u775T/kRqN1RL274czz3Se2WW8pX/oEJxzjvNcL8ijFpMH/PLLL6dsDzuTv2T2bzmWVktIAu5X1Uy7UanTYeXssGRlPHvvPfjrL2dsVkbx8c7nc+fCwoW5n5sxxsQCLwVPCDKwXEQK4izWaqLgnXegYUNwh/r8w803Q4kS8MoruZuXMcbECi8Fbx1wbZD9twFrcpaOyY5Nm2DePLjqKgi06kbJknDllfDpp87tT2OMOdV4KXgvAmNF5B0RuR4oLCKXiMi/RWS6u//5iGRpgvI9s+vZM3jcdddBWhpMnhz5nIwxJtZ4GXj+PjAIuBoYC5QFJgGvAucD/1HVTyKQo8nCp59CQgLUqRM8rnVrp2PLe+/lTl4mfwq0PFC45HQpnA0bNvD+++//43NbEuhvqamppKSk0KBBAxo3bsz48eNP7Js5cyZNmjShYcOG9O7d+8QsMnv27OGSSy4hISGBBg0a8NZbb2Xa9mm+LuI4K1vUqVOHjRs3RuR7eOZ1HANQHbgHeM3d7gKqRXLsRF7bcnMc3p49qgUKqD74YGjxd9+tWrjw3+P0TN4S7XF46enp2rx5cx0xYsSJz1JTU3X27NlhO0fv3r31448/zvbxoYyHy+k5wuXYsWMB92Unx6NHj4YUt2rVKl29erWqqv7+++9auXJl/euvv/T48eNatWpVXbVqlaqqDh48WN944w1VVR06dKj+5z//UVXVbdu2aZkyZTIdG1m8eHFVVZ0xY4bWrl1bf/3110xziMY4PM+zpKjqRlV9QVVvc7fhqvpbOIuwCd2sWXD8OHToEFr8JZfAkSPOmDxjvAq2PJCqnliKp1GjRieuGmbNmkXbtm0zXTZo4MCB1K9fn8aNG3PfffdluhROZkvmgDPv5J133kmLFi2oVavWiSm2Bg4cyJw5c0hMTOTFF1/M8judiksC1alTh7PPdjrVV6lShYoVK7J9+3Z27txJ4cKFqePeLurQoQOffOLcuBMR9u3bh6qSlpZG2bJlA663N3v2bPr27csXX3xB7dq1s/xvkFvCujqgiKSqaubreJiImDHDmTOzRYvQ4lu1glKlnMHpl10W2dxMZN319V2kbgn/+kCJlRMZflHmM1MHWx7o008/JTU1laVLl7Jjxw6aNm1KmzZtgMyXDapXrx4TJ05k5cqViAi7d++mdOnS/1gKxzc1GZy8ZA7An3/+ydy5c1m5ciXdunWjR48ePPXUUzz33HMhrZBgSwI5+R85coTatWsjIhw7doxFixaRnJzMhAkT2LRpEwD9+/enW7duVKlShX379jF+/Hji4v55zXT48GEuu+wyZs2addL0aLEgYMETkRuy0V71HORismHGDGeuTL/J24MqVAguugi+/BLS0yGTf6/GZMvcuXO5+uqrKVCgAJUqVeL8889n4cKFlCxZMtNlg5o3b058fDw333wzXbt2pWvXrpm2G2zJnMsuu4y4uDjq16+frVXXT/Ulgf7880+uv/563n777RPF68MPP+Tuu+/m8OHDdOzY8cQq7FOnTiUxMZGZM2eydu1aOnToQOvWrSlZsuRJbRYqVIgWLVowZswYXnrpJc/fJZKCXeGNBRRn/F2oQpu2xYTFjh3wyy9wg8dfTbp2hfHjncVDmzSJTG4m8gJdhUVSVssDBZLZskEFCxbkhx9+4JtvvmHChAm88sorzJw58x/HBlsyx79d321SL1RP3SWB9u7dS5cuXRg6dCjNmzc/8XlKSsqJ1S+mTZt2okPSW2+9xcCBAxERzjrrLGrWrMnKlStp1qzZSe3GxcXx0UcfccEFF/Dkk0/y0EMPBc0jNwX7/f4voD3QLsStvXuMySULFjivod7O9Gnf3nnN5GeLMUEFWx6odevWjB8/nuPHj7N9+3Zmz579jx+G/tLS0tizZw+dO3fmxRdfZOnSpcA/l8IJtGROIBmPD+ZUXRLoyJEjdO/enRtuuOEft0y3bdsGOLcmn3766RO3bqtVq8Y333wDwNatW1m1atWJK9uMihUrxpdffsm4ceMYM2ZMwFxzW7CC94Oqfudhm4UzkbTJJfPmQcGCkOxx5rkqVZy5Nb/9NjJ5mfwr2PJA3bt3p3HjxiQkJNC+fXueeeaZoMsG7du3j65du9K4cWNatWrFCy+8APxzKZxAS+YE0rhxYwoUKEBCQkKWnVZO1SWBPvroI2bPns3YsWNPDNVITXWeBz/77LPUq1ePxo0bc8kll9De/Q158ODBzJs3j0aNGnHBBRfw9NNPU758+YB5lC1blq+//pohQ4YwOUYG/4Y8ebQJXW5NHt2unTOQPDvzY952G7z7Luza5TzXM3mDTR4dW2bNmhVyBxlzspiePFpEKorIne52pt/n5UTkCREJ/KucCbtjx+CHH8DvObgn7ds7xTKXF3Uwxpio8dJH7w5gONAZ8O8TeAzn+d0SEclirg8TLj//DAcOZL/gtW3rvNpzPGOyr23btnZ1l4d4KXgdgdtV9SJV/dX3oaruUdWWOMVwWLgTNJlzn13TtGn2ji9fHho1gtmzw5eTyR32GMLkddH6N+yl4J0BjAyy/3kgcJcsE1apqc5yPwE6SYWkRQunp6fb09nkAfHx8ezcudOKnsmzVJWdO3cSHx+f6+f2MtNKIQ3yf5mqHheRwmHIyYQgNdWZMDonA8dbtIDXX4cVK5y19Ezsq1q1Kps3b2b79u3RTsWYbIuPjz8xEUFu8lLw1otIH1Udm9lOd8mgDeFIygSXng5Ll8KNN+asHd/4vXnzrODlFYUKFaJmzZrRTsOYPMlLwXsReF9ELgKmAn8AhYHTga7AxQRfINaEydq1Tg/LxBzOWlq7tvMsb/586NcvPLkZY0ysCrngqep4EakJPAH4LzUqwHFgkKp+FOb8TCbc8aE5LngizlXevHk5z8kYY2Kdp9USVPUpEfkAuAI4y/14DfCpqsbICn/5X2qqM8NKgwY5b6tFC2cF9B07nKs9Y4zJrzwvD+QWthcy2ycihVT1aI6zMkGlpkL9+qGvkBCMbxzfggXOpNLGGJNfhXtxGM9XeSLSTUQWishsEfleRIJOKyMiJUVkrHvMEhF5WkQKZog5XUQ+E5H5bsx9mbRTV0RmisgcEVnsdrrJGFNeRN4QkVluzHIRuTJjXG5btix8nUySk6FAgb8nojbGmPwq2Hp4DYFiqvqD+/7hENo7zcvJRSQJeB9opqorRKQrMFVEGqjqlgCHjQX2q2pTdxjELOBx4CG3zTjgc+ArVR0sIqVwZoHZq6qj3JjTgGnAY6o6RkSqAj+JyDZVnerGFAZmAM+o6r/cz54HmgLjvXzPcEpLg99+c67wwqFYMad4+gayG2NMfhXsluYsoKSIlFLVg8CjIbTndTTsg8BUVV0BoKpfiMhW4HbgH1N8u0W4O9DYjT8iIsOBsSLypKqm4Ux9lghc6MbsEZHXgUEiMtodS9gHKAq85cZsFpEPgUE4PVAB/gUcUNX3/VIYBlTw+B3DyjfhergKHjhXeZ99BqpORxZjjMmPgt3SHAg86BY7gB1AzSBbLWCnx/NfCGScvngh0CFI/CFgWYb4okArv5i1qro7Q8yZwDl+MUtUNT1DTAsRKea+vwI4aeItVd2hqr9k9aUiacUK5zWcBS8pyem08ttv4WvTGGNiTcArPFV9I8NH07PqiSki00M9sYiUBUoBf2bYtQVnTF9magFbM8z4ssVvn+81szZ9+1a6r0syiYkDagArgEbAbBEZgXNFeRTnVubIzGacEZF+QD9wFkqMlBUrnOV8atcOX5u+9fQWLYLq1cPXrjHGxBIvnVb6BNohIu1E5BJV9TLw3Lcm/eEMnx8GipG54gHi8TsmXDFlcJ4LTnYnx+4LPIJzG/YfVHWUqiaranKFCpG76/nLL1CnjjMsIVwaN3aKqD3HM8bkZ14KXrCru3OBN0XkZQ/t7XdfM3auLwIcCHJMZvH4HROumOM4q75/BaCqa4A3gXsC5JYrVqyAcK//WaSI03HF1sYzxuRnXgpewO4MqvoCcDZwWaiNqeouYDeQceHYysDaAIetAyqKnNS1wnf8Wr+YzNoMJSadv+cD3exu/jYC5USkRID8IurQIVi3LrzP73ySk52CZ5PwG2PyKy8FL+CPQncoQFWgkMfzzwAyjrtLdj/PzHScDir+c4wkAweB7/1izhKR0hliNqnqKr+YJm7e/jHzVNV3hfcdzjyh/ioBf6nqvqDfKkJWr3Ymjg73FR44HVf++gs2bAh/28YYEwuCFjwRSReR4yJyHKjk+3PGDadDx1KcoQxePAV0EpF67vk64xSZV933Q0RkmYjEA6jqcmAicL+7vxAwABjuDkkA+ApIBe52Y0ridCYZ4nfet3F6e/Z2Y84ArsoQ8yLQTESaujFlgRsAL7dtwyoSPTR9/DuuGGNMfpRV14d3cK7sBGfC6ECTQ+8HfsEd1xYqVV0sItcC74jIQaAA0Mlv0Hk8TicS/1uYfYCXRWShGz8DeNivzXQR6QaMFJH5bhujfIPO3Zg0EekIjBCRm3A6sdztG3TuxiwTkUuBV0TkGM7f1WichW6j4pdfnPXv6tQJf9sNG0Lhwk7B69kz63hjjMlrJNSVk0XkT1XNeIvPZCI5OVkXReBS6cornYK0NtATzhxKToYyZWB6yINLjDEmfERksaoGnV4yJ7w8w3tcRG4QkbqRSsYE9+uvkbm680lIcBaWtY4rxpj8yEvBexVnDJoNTY4CVafgnXVW1rHZlZgI27fDnxmH7RtjTD7gZfjyPiDJrxejyUXbt8PevZEveOAsP1SlSuTOY4wx0eDlCm8Nzji1gETklpylYwL59Vfn9eyzI3eOxo2d16VLI3cOY4yJFi8FbwjwoogEW3b0kRzmYwLwFbxIXuGVKgU1azpXeMYYk994uaXZDWgGbHaHBGzjn1d8pcKVmDnZmjXOkIQaNSJ7nsREK3jGmPzJS8Hr4/fniwLEWP++CPn1V6fYFS4c2fMkJMCkSbB/PxQvnnW8McbkFV5uaW5V1bhgG85Vn4mASPfQ9ElMdHqE/vxz5M9ljDG5yUvBey2EmMeym4gJTNW5pZlbBQ/stqYxJv8JueCp6hMhhH2Xg1xMADt3wp49ke2h6VOtGpQubQXPGJP/eLnCC8U3YW7PkDs9NH1E/p5xxRhj8hNP62aLSA3gNpzleYpmElI25ymZjHKz4IFzW3P0aDh+HAoUyJ1zGmNMpIVc8EQkEZiNU+j+AM4ANrm7K+GsSvBbuBM0fw9JqFkzd86XkAAHDjiF9pxzcuecxhgTaV5uaQ4FvgBKq2p1YLuq1lTVmkBpYBQwPAI5nvJ+/dV5tlYk2JD/MPJ1XLHbmsaY/MRLwTsPuFVV97vvT4y5U9UjOAuuXhfG3Iwrt4Yk+NSvDwULWscVY0z+4qXgHVXVvX7vVURO3BJV1YNA1bBlZk5Yvx5q1cq98xUpAvXqWcEzxuQvXgreXyJS3+/9JqC77427OvjRcCVmHGlpzkoJkZ5SLCPrqWmMyW+8FLxpwDQR6eu+/xB4T0Q+F5HPgY9wnvGZMNq40XnNrQ4rPgkJ8McfsGNH7p7XGGMixcuwhJdwlgja7b5/DWiFc5WnwFc4C8SaMFq/3nmNxhUeOFd5F1yQu+c2xphICKngiUg5YLeqvur7zO2o0kNESgNHbGHYyNiwwXmNxhUeWMEzxuQfQW9pisilIrIaZ1LoHSKyXEQ6+seo6m4rdpGzfj0ULQoVK+bueStWhMqV7TmeMSb/CFjwRKQ98ClwFrAX2AfUA74QkfNyJz2zfr1zO1Mk989tHVeMMflJsCu8/wL/A+qpahlVLQ00Bn4CHsqN5IxzSzO3b2f6JCbCihVw5Eh0zm+MMeEUrOAlA9eo6irfB6q6DGch2OQI52Vcviu8aEhIgKNHYeXK6JzfGGPCKVjBO6aqGzJ+6Ba9QpkdICK5ODw6/9u929midYXn33HFGGPyumAF73CQfccCfD43B7mYDKLVQ9OnTh1n1hUreMaY/CDYsIQCInImkFl3icz2CWCLyYRRtMbg+RQsCA0b2hRjxpj8IVjBqwBsCLBPguwzYRLtKzxwbmtOngyq0ekpaowx4RKs4B0CxntoS4CeOUvH+Fu/HkqWhDJlopdDQgK8+Sb8+SdUqRK9PIwxJqeCFbw9qnqjl8ZEpFMO8zF+ojkGz8e/44oVPGNMXhas00p21raz9fDCKJpj8HwaN3ZereOKMSavC1jwVPUbr41l5xiTOdXojsHzKVPGWW3dCp4xJq/zsjyQyUU7d8L+/dG/wgObYswYkz9YwYtRviEJsVLwVq2CgwejnYkxxmSfFbwYFe0xeP4SEiA9HZYvj3YmxhiTfcFWSygtItVEbPRVNPjG4MVKwQO7rWmMyduCXeF9BMwHykYyARHpJiILRWS2iHwvIkEnphaRkiIy1j1miYg8LSIFM8ScLiKfich8N+a+TNqpKyIzRWSOiCwWkeuDnLOriKiI9Mn2F/Vo/XooW9YZhxdttWtD8eJW8IwxeVuwgtcYaKSqOwFEZEpWjYnI+V5OLiJJwPtAb1VtAwwDpopI5SCHjQUKqGpToDnQGnjcr8044HPgJ1VNAdoB/xaRfn4xpwHTgHGq2hq4FHgps3GEIlIcGOLle4XD+vWx8fwOIC4OGjWygmeMyduCFTxV1V1+7xNDaO8Dj+d/EJiqqivcE34BbAVuz4pZBbwAACAASURBVCxYRBoC3YFn3PgjwHDgLreIAXR2c33ejdkDvA4M8rs92wcoCrzlxmwGPgQGZXLax4ERHr9Xjm3YEBu3M318PTVVo52JMcZkT7CCt1FEXhORjiLSBigsIq1FpE2gDSjs8fwXAosyfLYQ6BAk/hCwLEN8UaCVX8xaVd2dIeZM4By/mCWqmp4hpoWIFPN9ICLnAs2AUaF+oXBQhd9+i62Cl5gIe/Y4eRljTF4UbGqxQcBE4Ba/z2YFiRcg5N//RaQsUAr4M8OuLcDFAQ6rBWxVPek6Y4vfPt9rZm369q10X5dkEhMH1ABWuLdGXwVuVVXNzb4727c7QwCqV8+1U2bJv+NKLOVljDGhCljwVHWGiJwFnIfTceVF4K4gbYkbE6ri7mvGdfcOA8XIXPEA8fgdE66Y/sBcVf0pQC4ncZ8R9gOoVq1aKIcE5OuhGUuFpVEjZ07PpUuhW7doZ2OMMd4Fu8JDVbcCkwFE5D5VfTtYfGa9IYPY774WyfB5EeBAkGMyi8fvmP1Axr6NmcUEbEdEqgJ9cYp9SFR1FO6tz+Tk5Bw96dq40XmNpYJ32mlOb03ruGKMyatCHniuqg3DEeMXuwvYDWTskVkZWBvgsHVAxQxjA33Hr/WLyazNUGLScdb564Bze3aKiMwSkVluzED3vafeqF7FYsEDm2LMGJO3eZ5pRUROE5EeIjLQ3a7w6yHp1Qwg47i7ZPfzzEzH6aDSIEP8QeB7v5izRKR0hphNqrrKL6aJ+5zOP2aeqh5Q1bdUtbGqtvVtbsxT7vvvPHxHzzZuhFKloHTprGNzU0ICrF0LaWnRzsQYY7zzVPBE5FpgE87CsE+620fAJhG5JhvnfwroJCL13PY7A6fjdBZBRIaIyDIRiQdQ1eU4HWnud/cXAgYAw1XV92P4KyAVuNuNKYnzbM1/LN3bOL09e7sxZwBXEYXxdpnZuDH2ru7AKXiq8PPP0c7EGGO8C/oMz5+IdATeAZbjDOz+w91VBegGvCMi21V1eqhtqupit4i+IyIHgQJAJ1X19aqMx+lE4n8Lsw/wsogsdONnAA/7tZkuIt2AkSIy321jlPuMzReT5n6fESJyE04nlrtVdWom33sgcJH7dqA728oFqno81O/pVayNwfPx9dRMTYWUlOjmYowxXomGOJJYRL4DvlLVpwLsfxCnWLUNX3p5U3Jysi5alHF4YehKlYIbboCXXw5jUmGg6kx3duWVMHJktLMxxuQ3IrJYVYNOL5kTXm5p1sWd4SSAZ4B6OUvH7N4Ne/fG5hWeiLMCunVcMcbkRbY8UIyJ1R6aPgkJzjO89PSsY40xJpZ4KXgrgGDj7O5zY0wOxOKgc38JCc5K7GsDDRwJItTb58YYEwkhd1oBhgJfu51MvuTv6buqAF2A+sA/Vhsw3uSFKzxwbmuefXbguM17N/PpL58yb9M8ftzyI1vTtrL38F6KFSpGuWLlaFChAU2rNKXz2Z1pekZT4sRuNhhjIivkgudONXYD8AowkL/nzRScAeTXq+o34U/x1LJxIxQtChUqRDuTzDVo4CwXtHQp9Ohx8j5VZeraqTw771lmrp8JQLVS1Ug6PYmLal9EySIlOXD0AFv2b2HZtmVMnTOVx2c/TrVS1bg16Vb6JvWlfLHyUfhWxphTgZcrPFT1fRGZDHQEznI/XgNMU9X9gY80ofKNwYvVdeaLFoVzzvlnx5WlW5Zy+5Tb+X7T95xR4gyeaPcEvRr0ok65OgHb2nVwF1PWTOGt1Ld4aOZDPDn3Se5NuZd7U+6lRJESEf4mxphTTcjDEkzocjIsITkZypeHr78Oc1JhdPXVMG+eU5yPpR/j0VmPMmzuMMoWLcvQ9kPpk9iHwgW8rRS1fNtyHv3uUSasmECVElUY0WUE3c6xWaqNOZXE0rAEkwtidZYVfwkJzrp4yzf9TtuxbRk6Zyi9E3qzuv9q+iX181zsABpUbMDHPT9m/s3zKVe0HJd+eCnXfnotew/vjcA3MMaciqzgxZD9+2HHjtgcg+cvIQGosJx245qzdOtSxl0+jjcvfZMyRcvkuO3mVZuzqN8iHmv7GOOXjafp6Kb8vNXmMjPG5JwVvBjiW0081q/wDleeAze14vCR48y5cQ7XNMrONKqBFS5QmIfPf5iZvWey9/BeznvjPCasmBDWcxhjTj1W8GJIrI/BA5i3aR7XfXUxBQ9Xot26+SRWTozYudpUb8OPt/xIYuVEen3cixfne1lf2BhjTmYFL4bE+hi8xX8s5uJxF1OlRBUu2DSLlQsin2jl0yrzzQ3f0L1ed+6Zdg/3TL3HBrAbY7IlrAXPXYHAZNPGjVCoEJx+erQz+af1f63n4nEXU7ZoWb654RtaJVZm1Spn3s9IK1qoKB/1+Ig7m93Jiwte5PYpt5OuNreZMcYbT+PwQjAWZ+YVkw0bN8KZZ0KBAtHO5GR7Du2h6wddOZZ+jKnXTeXMUmeS7HYcXrIE2raNfA4F4gow/KLhxBeM55l5z3A8/Tgjuo6wGVqMMSHzsh5eHHAHcBlOUSuUSViMzg+SN2zYEHu3M4+nH+eqT65i9c7VTL1u6omB5ElJzv6FC3On4AGICE9d+BQF4wry5NwnARjZdSQSq6P0jTExxcsV3hCcKcU246x6fiTDfsGu7nJk40boGGM3hR/77jG+/vVrXu/6Ou1rtj/xeYUKTnHOwbJ/2SIiDGk/BEUZNncY5YqV48kLnszdJIwxeZKXgnctcJ2qvh8oQET+DLTPBHfkCPz5Z2yNwZuxbgZDZg+hd0Jv+iX1+8f+pk1zv+CBU/SGth/KroO7GDZ3GOWLleeelHtyPxFjTJ7i5QFIkWDFztUqJ8mcyjZtclYUj5VbmlvStnDdp9dRt3xdXu38aqYxycmwbh3s2pXLyeEUvVc7v0qP+j24d9q9vLP0ndxPwhiTp3gpeAtFJKsfx1bwsimWxuCpKn0m9WHv4b181PMjihcunmmcr+PK4sW5mJyfAnEFeK/7e1xY60JunnzziRUajDEmM14K3m3AMyJyiYgEWsNlWBhyOiXF0hi8N5a84Szz0+FZGlZsGDCuSRPnNRq3NX2KFCzChJ4TqFOuDld8dAWrdqyKXjLGmJjmpeBtAHoAk4CtInI84wZUikSSp4KNG5115qpWjXIeuzdy77R7aV+zPf9u+u+gsWXKwFlnOT01o6lUfCm+uPoLCsUVosv7XdhxYEd0EzLGxCQvnVYOA+OD7BegZ87SOXVt3AhVqkBh7wsNhI2q8q/P/4WijOk2JqQxbsnJ8P33uZBcFmqWqclnV31Gu7fbcfn4y5l+/XSKFCwS7bSMMTHES8Hbo6o3BgsQkU45zOeUFQtj8N5Y8gYz1s1gZJeR1ChdI6RjmjaFDz+ELVugcuXI5peVlDNTGHvZWK7+5Gr+/eW/GdNtjI3RM8ac4OWW5vkhxNTPbiKnumivg7dt/zYemPEAbWu0zXQIQiDNmzuv8+dHKDGPrmp4FYPbDOat1LcYuWhktNMxxsSQkAueqq72/VlEyotIc3cr7xfzV7gTPBUcPw6bN0d3DN5/pv+HtCNpvNb5NU9XRU2aOPN/xkrBA3i07aN0Prszd359J3N/mxvtdIwxMcLTRIQiUk9EZgJbge/dbauIzBCRupFI8FTwxx9w7Fj0rvBmb5zN20vf5r4W91GvQj1Px8bHO9OMxVLBi5M4xl0+jhqla9Djox78vvf3aKdkjIkBIRc8ETkbmIcz1m4B8Km7LQDaAPPcGONRNMfgHT1+lNu+vI3qpaozqM2gbLWRkuIMTTiScbK5KCodX5qJV04k7UgaPT7uweFjh6OdkjEmyrxc4Q0BZgJnqmpLVe3pbi2BasAsN8Z4FM2C99L/XmL59uX838X/R7FCxbLVRkoKHDoEqalhTi6HGlZsyNjLxrJg8wIGfD0g2ukYY6LMS8FrDfRR1a0Zd6jqFuBGnCs949H69c5rbj/D27Z/G49/9zhdzu5Ct3O6ZbudlBTnNZZua/r0qN+DgS0H8vri1xmzZEy00zHGRJGXgiequi/QTlXdgzMWz3i0fr0zBi8+PnfP+8i3j3Dw2EGe7/h8jtqpWtVZxy8WCx7AkPZDuLDWhdw+5XYW/RHFaWGMMVHlpeBtE5EOgXa6q51vy3lKp55166BWrdw95/Jtyxm1ZBS3Jt3KOeXPyXF7KSmxW/AKxBXggys+oNJplbjioytsJhZjTlFeCt4oYKKIvCQiHUWkkbt1EpH/w+nAYgOfsmH9eqhZM3fPef/0+ylRuASPtH0kLO2lpMBvv8HvMdohsnyx8nzS6xO2pm3l6k+u5nj68WinZIzJZV7G4b0KvIez6vlXQKq7TQH6A++q6muRSDI/O3LEGYOXm1d409ZO46tfv2Jwm8GULxZoHnBvfM/x5s0LS3MRkVwlmVc7v8qMdTMY/O3gaKdjjMllnsbhqeqtOB1TXgWmutsrQGtVDT7TsMnUxo3OOni5dYV3PP049067l1platG/Wf+wtXvuuVC0KMyZE7YmI+LmJjfzr3P/xbC5w5i0clK00zHG5CIvc2kCoKpzAZu+Ikx8PTRzq+C9lfoWy7YtY0LPCWGdXLlwYWjZEr77LmxNRszLnV8mdWsqN0y8gUX9FlGnXJ1op2SMyQWervCyIiIxNhIr9vkKXm7c0jx49CCPznqUlKopXF7v8rC3f/758NNPsHNn2JsOq/iC8XzS6xOKFCxC9/HdSTuSFu2UjDG5IOAVnohUBIqo6ib3/Q0htOd56LSIdAMGAweBAsAAVQ3Yd1xESgL/BzRw46cD/1XVY34xp+N0oKkIFAHeV9XnMrRTF3gNKAQUA4ar6rt++1sBdwHl3ZjjwCBVne31Owazbp1zdVSlSjhbzdxrC1/j932/M+7ycRFZRaBtW+d1zhy47LKwNx9W1UpV48MrPqTjex25efLNfHjFh7aygjH5napmugG/A/uAePd9Os4P/fQg2/FA7QU4RxKQBtR333cFdgKVgxzzKU4HGYDCONOdPem3Pw5YBDzhvi8FrAX6+cWcBvwG3Oy+rwrsAjr5xSwCHvJ7fytOUa6f1fdKSkrSUPXsqXr22SGHZ9ueQ3u03NPltOO7HSN2jkOHVOPjVQcMiNgpwm7YnGHKo+gL816IdirGnPKAReqhhnjdgt3SHAOMVdVD7vu/gPZAuwBbezfGiweBqaq6AkBVv8CZmPr2zIJFpCHQHXjGjT8CDAfuEpHT3LDOQCLwvBuzB3gdGCR//wrfBygKvOXGbAY+BPwnk1yBcyXp8zpOwb/C43cMav363Lmd+eL8F9l5cCdPtn8yYucoUsTprZkXnuP5PNDyAbrX7c790+/nuw15KHFjjGcBC56qPqyqd/h9tFxVvwuyzcIpEl5ciHMl5W8hEGiA+4XAIWBZhviiOJNa+2LWquruDDFnAuf4xSxR1fQMMS1EpBiAqt6gqice7ri/fRzCuUUaNuvWRb7Dyo4DO3h+/vNcUe8KkqokRfRcbdvC0qXwVx5ZKEpEGHvZWGqXrU2vCb1sZQVj8jEv4/ACzpMpIgki0ihYTCbHlMW53fhnhl1bgEDXPLWArW7x8Y/37fO9ZtZmKDFxQI0A+Z4NlAU+DpCbZ3v3wq5dkb/Ce2ruU+w/up/H2z0e2RPhdFxRjf3hCf5KFinJxCsnsv/Ifnp+3JMjx2No2QdjTNh4WR4oWA/MnsBiEXnQw7mLu68Z1205jNOJJNAxmcXjd0y4YjJ6BHhVVZdmtlNE+onIIhFZtH379gBNnCw3hiRs3ruZV354hesbX0/9CpFfkP6885xbm99+G/FThVX9CvV569K3mL95PvdMvSfa6RhjIsDLsIRKgXao6iCc24W3emhvv/ua8RZhEeBAkGMyi8fvmHDFnCAitwBVgIA/CVV1lKomq2pyhQoVAoWdZN065zWSBW/I7CGkazqPnB+eKcSyEh8PrVvD9Om5crqw6tmgJ/em3MurC1/l3aXvZn2AMSZP8VLwNIv9e4GQ5/tX1V3AbqByhl2VcXpVZmYdUFFO7j/uO36tX0xmbYYSkw5s8P9QRHoANwCXqurRAHllS6TH4P2661fG/DiGfkn9qFkm9ybr7NQJli93pkzLa5668CnOr34+/b7oR+oWG1ZqTH4StOCJyDrfBlTwf59h+w1nGMOPHs8/A0jO8Fmy+3lmpuN0UGmQIf4g8L1fzFkiUjpDzCZVXeUX00RE4jLEzFPVE1d4InIx8ADQVVX3iUgZEekZ8rfLwrp1UKoUlCkTrhZP9sisRygUV4j/tv5vZE4QQMeOzuu0abl62rAoGFeQ8T3GU65oOS4ffzl/HcwjvW+MMVnK6grvN2Cjux33+3PG7SfgZZzu/l48BXQSkXoAItIZOB1nrk5EZIiILBOReABVXQ5MBO539xcCBuAMGvf1qPRNbH23G1MS6MfJq7G/jdPjsrcbcwZwlX+MiJyPMzTjEaC2iCTj9ATt4vE7BhTJZYF+2voTH/z8AQPOG8DpJU6PzEkCaNQITj8dpk7N1dOGTaXTKjGh1wQ2793MdROvI/2kzrzGmLwq6FyaqtrW92cR+VNV24Xz5Kq6WESuBd4REd9MK53UWUEdnFukxTh5Ydk+wMsistCNnwE87Ndmujt7y0gRme+2MUpVR/nFpLnr940QkZtwOrHcrar+P6LfwCm+X2ZI++2cfm+fNWugSZNwtXaywd8OpmSRktzf8v7InCAIEecq7/PP4fhxKFAg11PIseZVm/PSRS9x25TbePy7x3m07aPRTskYk0NeJo9+RERa44xx+yNcCajqZGBygH33Afdl+Gwv7pVZkDb/ALplEbMSZ8B8oP1nBzs+p44edZ7hXXll+NtesHkBk1dNZki7IZQtWjb8JwhBp07w9tuweDE0axaVFHLs1uRbWfD7Ah777jGaVmlKlzphu7g3xkSBl04rI3FuJ7aMUC6nlPXrnaufsyNQVv87879UKFaBAc0HhL/xEF14oXOl9/XXUUshx0SEkV1Gklg5kesmXsfaXYH6Uhlj8gIvBc83j2TYBl6fytascV7DXfBmrp/JzPUzeaj1Q5xW+LSsD4iQChWcK7vPP49aCmFRtFBRPun1CYJwxUdXcOBooBEzxphY56XgrSWLuTLdTicmBL6CVyeMS7GpKv+d+V+qlqzKrclehkRGxqWXwqJFeXN4gr9aZWox7vJx/LT1J2754hZOnujHGJNXeCl4L+NM9hzMGznI5ZSyZg2ULg3lyoWvzS9Wf8GCzQsY3GYw8QVDHhIZMb4lgiZn+oQ2b7n47It5tO2jvPfTezzz/TPRTscYkw1eOq1UAS4XkV7AbGAbzkBtf9G7h5bHrFnj3M4M1xJs6ZrOoG8HUbtMbW5MvDE8jeZQ3brOd/zsM7jttmhnk3OD2gzilx2/MPCbgVQvXZ2rGl4V7ZSMMR546qXp9+dAkzLavZ4QrVkDLVqEr72Pl3/MT1t/4r3u71GoQKHwNZwDIs5V3vDhsGePM8g+L4uTOMZeOpbf9/5O70m9qVqyKq2qtcr6QGNMTPByS3MHUDPIVgtn8VaThcOHYePG8HVYOZZ+jIdnPUyDCg1i7qrj0kudIRhffRXtTMKjSMEiTLxyIjVK1+DSDy9l9c7V0U7JGBMiLwVvkqpuDLJtAEZHKM98Ze1aZwmdcBW8d5a+w+qdq3mi3RMUiIutUd7Nm0OlSvBxPurbW65YOb669isKSAEuHncx2/eHtjqGMSa6vKyH1y+EmNydtDGPCueQhMPHDvPYd4+RXCWZy+pelvMGw6xAAejVC7780rmtmV/UKlOLyVdP5o99f3DxuIvZe3hvtFMyxmTByxUeACLSRkReEZGv3e1lEbEHGR6Es+CNXjKa3/b8xtD2Q5Fw9YAJs2uucW7jTpwY7UzCq3nV5kzoOYGlW5dyyQeXcPDowWinZIwJwlPBE5HXgW+B24CO7nY78J2IjAx/evnTypXOwOycrpKw/8h+hs4ZSpvqbehQq0N4kouA885z1vx7//1oZxJ+Xep04d3u7zJn4xx6fNzDVks3JoZ5WfH8DuA64DWgE9DI3ToBI4DrRaR/JJLMb1asgAYNso7LyosLXmRL2haebP9kzF7dgdNb85pr4JtvYMuWrOPzmqsaXsWILiOYsmYKvSf15nj68WinZIzJhJcrvL7A5ap6h6pOV9Xl7jZdVfsDlwO3RCbN/EPVWRw1pwVv2/5tPP3903Sv252W1WJ/etNrr4X0dPjgg2hnEhm3JN/CUxc8xYfLPqTv532t6BkTg7wUvIoZls85ibuvQs5Tyt/++AP27oX6gUYyhujx7x7n4NGDDLtgWHgSi7B69Zxbm6NGOUU/P3qg1QM83OZh3kp9i5sm32RFz5gY46XgpYtIwJlU3IVW8+mPsvBZscJ5zUnBW71zNa8vfp1+Sf04p/w54UksF9xyi/P8cu7caGcSOY+1e4zH2j7GO0vfofek3hxLPxbtlIwxLi8F7ztgrIj84ypORCoCbwKzwpRXvhWOgvfgNw8SXzCeR85/JOvgGNKrF5QsCa+/Hu1MIuvh8x9maPuhjPt5HNdPvN6KnjExwsvUYoOB/wGbRWQx8Kf7eRWgCZAG5NGlPnPP8uXOhNEVsnnzd96meXz6y6c83vZxKp1WKbzJRVjx4nD99fDGG/DSS+GdODvWPNT6IQrGFeSBGQ+QdiSN8T3GU6xQsWinZcwpzcvA81+BVsAc4Dygu7s1w5lMuqWq2gqZWfD10MxOp8p0TefeafdS+bTK3JNyT/iTywW33OKMyRs1KtqZRN5/Wv6HEV1G8OXqL7ngnQvYecBm3jMmmjyNw1PVX1T1QqAi0NzdKqpqB1VdGYkE8xNVp+Bl93bmez+9x4LNC3iy/ZMUL1w8vMnlkkaNoFMn5wrv0KFoZxN5tybfyoReE/jxzx9p+WZLNuzeEO2UjDlleZ5pBUBVd6rqD+5mv7aG6Pff4a+/sjckYe/hvTww4wGandGM3om9w59cLrr/fti6Fd57L9qZ5I7L613O9Ouns3X/VlLGpPDD7z9EOyVjTkleZ1opKyLPishKETnsbitF5GkRKRupJPOLJUuc1yZNvB/7xHdPsCVtCy9f/DJxkq3fU2JG+/bO38Gzzzpj804Frau3Zu6Nc4kvGE+bt9rw7tJ3o52SMaccLzOt1AKWAvcCZwN73e1s4H4g1Y0xAfz4o/PsrnFjb8et3LGS4f8bzk2JN9HsjLzfL0gEHngAVq/OvwPRM9OgYgMW9l1Iypkp3DDpBu6bdp+N1TMmF3m5VHgJ2AVcCsSragVVrQDE43Re+QsYHv4U848ff4Q6deA0D+vCqyp3fnUnxQoV48kLnoxccrmsRw9ITITBg+HIKTT9ZPli5Zl23TRub3o7z89/no7vdeTPfX9mfaAxJse8FLzzgc6q+rmqHvV9qKpHVfUzoKsbYwL48Uc491xvx4z7eRzT101nSLsheW4YQjBxcTBsGKxfD6NPsVUUCxUoxCudX+HNbm8yf9N8EkYmMPXXgJMYGWPCxEvB26OqvwfaqaqbgN05Tyl/2rkTfvvNW8Hbvn87d319FylVU7it6W2RSy5KOnWC88+Hxx+H3afgv5wbz72RRf0WUem0Slw07iIemP4Ah48djnZaxuRbXgre/0SkTaCd7r7vMnz2f9lNLL9JTXVevRS8u6fezd7Dexl9yeiYW8k8HETghRdgxw548MFoZxMd9SvU54d//cAtSbfwzLxnSBqVZL04jYkQr8/wRorIgyLSXERqultzERkIDAVeEJFqvg24MiJZ50E/uD/DkpJCi5+yZgrjfh7HQ60fokHFMKwlFKOaNIE77nCmG1uwINrZREfRQkUZ2XUkU66Zwp7De0gZk8J/pv/HFpQ1JsxEQ5y6XkR8HcgDHSCZ7VPV/HdpkoXk5GRdtGjRSZ917Qrr1v09l2Yw2/dvp9GIRpQvVp7F/RZTpGCRCGUaG/btc1ZTKFUKFi6EYqfwDFx7Du3h/un3M3rJaGqWrskLnV7g0nMujen1Do0JFxFZrKrJkWrfy1ya+4HnPMQLkDfnvwqz9HSYPx+6d886VlX51+f/4q9DfzHt+mn5vtgBlCgBb77pPNO75x4YOTLaGUVPqfhSjLpkFFc3vJo7vrqD7uO706FWB4ZfNJz6FXK4ppQxpzgvBS9NVR/z0riI2IKwwKpVsGsXtGiRdezoJaOZvGoyL3R8gcaVPA7Yy8M6dnRmYHn2WbjgAujZM9oZRVe7mu1IvTWVEQtH8PCsh2k8ojG9E3oz+PzB1ChdI9rpGZMneXmGl51B5TYQHZg3z3ltmcXC5Ev+XMKArwfQoVYHBjQfEPnEYsyQIdC8OfTu7dzaPNUVjCvIHefdwer+q+nfrD/jfh5HnZfr8O8v/s3mvZujnZ4xeU7Iz/BOHOAsAnsRcJb70RpgqqqmhTm3PCvjM7zrroNp05z5IwM9itlxYAdJo5weLYv6LqJC8VNz8fitWyElBfbvd24D17JfmU7YvHczQ2cP5Y0f3wDgqoZXcXfzu2lyejbmqjMmBkX6GZ7XuTSvBTYB44En3e0jYJOIXBP+9PK+9HSn2HXsGLjYHT1+lCsnXMnWtK182uvTU7bYAVSqBFOmwNGjzhi9NWuinVHsqFqyKiO6jmDNHWvo37Q/k1ZOImlUEu3ebsfHyz+2MXzGZMHLXJodgXdwCt5TwB3u9hSwGXhHRDpEIsm8LDUVtm93OmRkJl3TuWnyTcxcP5NRl4wiqUqI4xbysbp1YeZMZ/mgNm3+nnTbOGqUrsGLF73I5rs381yH51j31zp6TehFlReqMOCrASzdsjTaKRoTk7wMS/gO+EpVnwqw/0Ggk6q2DV96eZP/Lc2hQ2HQINiyxbl68aeq3DftPl5Y8AJD2w/lodYPRSHb2PXLL84vCtu3O+P0brgh2hnFpuPpx/lm/Te8+eObTFw5kSPHj1C3+qe40gAAFgBJREFUfF0ur3s5V9S/gnMrn2vDGkyeEOlbml4K3lbgdFXNdEEXESkA/KGq+WfCx2zyL3iJiVC0qPM8yp+qcs/Uexj+v+Hc0ewOXrroJfuhlIlt2+DKK2HWLKfn5ssv//MXB/O3XQd3MX7ZeD755RNmbZjFcT1OjdI1uKj2RXSo3YH2NdtTOr50tNM0JlP5vuCJSDdgMHAQKAAMUNVFQeJLAv8HNHDjpwP/VdVjfjGnAyNxVmYvAryvqs9laKcu8BpQCCgGDFfVdzPEpAAvAEdxVoV4WFW/zuo7+QreypXOgOqXXoI77/x7/5HjR/j3F//mzdQ3GXDeAF7s9KIVuyCOHYNnnoHHHoPixWHgQOjf/9QeoB6KHQd2MHnVZCatnMS3G74l7UgacRJHcpVk2lRrQ/OqzWletTlnlDwj2qkaA0S+4KGqIW3At8B/gux/APg21PbcY5KANKC++74rsBOoHOSYT4F33T8XBuYBT/rtjwMWAU+470sBa4F+fjGnAb8BN7vvq+IsfdTJL+ZMnMmwL3Tfn+vm2iir75WUlKSqqvfco1qwoOoff+gJf+z9Q1uMaaE8ig6eOVjT09PVhOaXX1QvvlgVVCtVUh08WPW336KdVd5w5NgRnbNxjj4882FtMaaFFn6isPIoyqPoGc+fod0/7K4Pz3xYP1r2ka7YtkKPHDsS7ZTNKQhYpB5qiNfNyxXehcDXwHLgS8C3iFcVoAtQ3y0Y34TUoNPmBJyrzCv8PlsBfKKqgzOJbwj8DDRW1Z/dz3oBY4GKqpomIl2BSUB5Vd3txvwH6A9UV1UVkf7AI0Alda9YReQ1t5i1dt8/B7RT1SS/808Bdqrq9cG+V3Jysn7zzSLOPNOZUuz9951fLN776T3umnoXh44d4q1L36JXg16h/lUZP3PnOksLffWV0/O1RQu49FLo3Nnp8BKXtxeEzxWHjx1m6dalLNi8gAWbF7Doj0Ws/Wst6e4NnMIFClOnXB1qlalFzdI1T7zWLFOTqiWrUqpIKbsrYcIuZm5puslcA7wClObveTMF50rodlX1tH61iOwGnlbV/2/vzKOsqq48/P1qYBZwAqKJIoIubOcQ21a7xUQlIaJtuh3aEW3j0C1Ru1evNpoYjDFq0hqNGY2zrTFGcWhncYxjBIeIiu0AagJFgSitgFAFu/8451G3Lve9es+6Va+q3v7WOuu8e84+w911uZt7pn1BIu06YFsz2z1D/nTgAmBQ/N8AkrYC3gG+Zmb3S7o0/t42UW4f4BFgvJnNlXQHMNDMJiVkjgOuBDYwsxWSXgKeM7OTEjLnAieZ2ahS9zVhwgTbc89ZXH45PPt8CwsG38P5fzifWQtmsccX9uDKKVcyftPxlajKyWD+fLj2WrjjDng5LkwcNgx22y3MnW6zDYwbB1tvDSNGQL9+1extz2dly0rmLpnLnOY5zGmew+tLXmfeR/OY9+E8lrcsbyfbv74/o4aMWhdGDh7JiMEjGD5geLswbMCwdb8HNw5mQMMAN5ROUXrSWZqY2U2S7gL2p/3G8wfNbHnxkusjaSPCcGPa3XMT8LUixcYAi6y9lW5K5BXirDoLeXNjnF7s3kQYDh0NvBZl7siQGSlpkJmtKNJH3vzLEma/cCHj/vNlvv7ITJasWMJWw7fiqgOvYurOU6mTf4LkwejRMH16CO++Gxa2PPtsWCB02WXre1LfcMOw4GWTTYLX+cGD24f+/aGhAerrQ5wMhbTku7rwO++06jEQ2AWxCzsAOwBsADbE+HjtEha3zKO55R0+WrOQZWuaWNbaxLKlTbyweB7L1jzDx2sWY0XPlm+jnwbSTwNp1ED61w0KsULcqP7UqYEGNVJHA/VqpL4Qq4F6GqlXY5AhxKIOIaQYF67jbyTqqAMSsULcTjaWJ16XQ7lyBek866zsPw5dcT+9j7INnqSr48+bzGxGDm0PjnF6t+wqwiKSYmWy5EmU6S6ZdgZP0onAiQB8Dtj326waugX7bbEfh/3VYUweN5nG+sYit+V0li23DEeSHXtsuF6zJjjcffPN4FW9uTmc4tLcHPzvFRzyLl/eFlavDuWcNAI2jWG3EmJrod8nMOCj7NC4AhpXsLphJasbV4brhpWQ/F2/HOpboK4V6lra/65rzbhuLd4fx0lRyRfeVOC/Wf/r6bNS+CJMuwPoT8qYpMpkyZMosxwYWoZMOfV0JLMOM7sCuAJg/PY72vPffpoh/YZk34XT5dTXw1ZbhVAJZsHotba2xcmQlEvGeaX1buoI//SGAlt0W6tmxlpbi9EWWyFOp5mxlhAb6eu2cuW2W3Yfy62zim0X9/zWfew7fVyX1l+JwWs2s9y2/prZ0jiHl54PG0VYVZnFO8AISUoMaxbKv52Q+WpGnWmZrHbXAvM7kGkqNZwJMHhAPzd2vRSpbRjT6S2IsEPJcUpTyWTSK3F/W1HigpNKmAmkJygnxPQsHiJMNCRdgE8g7OF7KiEzVtLwlMz7ZvZGQmZXqd1k2gTg6YQxe6jCvjmO4zg9mEoM3mnALyWVOuyx0rM0LwQmSRoPIGkyYQbs5/H6B5LmSBoAYGavArcD/xHzG2O/LrU2bw33AS8BZ0SZoYS5tR8k2r0O+BQ4NspsDhyekvkpwXB+OcrsBPwd8KMK79FxHMfpAVQycHM3YcP2HyV9CiwmDAEmqeiYfzObHT0wXC+pcNLKJDMrrKocQFggklw6NBW4XNLzUX4mcE6izrXx9JZfSXom1nFFnGMryHwSD8P+paTjCQtUzjCzBxIy70cDfLGkFsKX5SGF/X+O4zhO76KSjeerCKeaFBUBdjezAXl0rDeT9ofnOI7jdExP2oe31Mz2KSUgKa8VnI7jOI6TK5XM4R1VhkwRr2+O4ziOU106/MKT9AXCbtO1kjYzswXFZM3sT3l2znEcx3HyouQXnqSLCfvRbgFuBeZL+n53dMxxHMdx8qToF56kkwlL+98nnDtZR9iHdrakN8zsxu7pouM4juN0nlJDmicDvyF4QWgFkNSP4FHgFMANnuM4jtNrKGXwxgF7WcKTuJmtjr7lfC+a4ziO06soNYf3SeL0knXETeGZZ8pLKmclp+M4juN0O6UMXilHKekTVgr4sVuO4zhOj6TUkOYgSUeT7TlwYJG8gbn1zHEcx3FypJTBGwpcWyRPGXmiJzhUchzHcZwMShm8/yN4IigXAT/pXHccx3Ecp2soZfBWmllF/u0kXdDJ/jiO4zhOl1Bq0cqYz1DfZynjOI7jOF1OUYNnZisrreyzlHEcx3Gc7qASbwmO4ziO02txg+c4juPUBG7wHMdxnJpAZr51Lm8kfQy8Ue1+9CE2AZZUuxN9CNdnfrgu82VbM9ugqyrv0AGs85l4w8wmVLsTfQVJs1yf+eH6zA/XZb5ImtWV9fuQpuM4jlMTuMFzHMdxagI3eF3DFdXuQB/D9Zkvrs/8cF3mS5fq0xetOI7jODWBf+E5juM4NYEbvJyRdKCk5yU9IekpSb6CK4WkqZLmSnosFYYlZDrUo6QTJM2W9KSkhyRt3b13Uj0k9ZN0oaRWSaMz8jvUjaSzJL0g6VlJt0kakcpvlHRJrGeWpN9IGtx1d1UdSulS0nRJL6We0/sy6ui0vns7kg6QdK+kh+M93idpxwy56j2bZuYhpwB8EfgE2C5eHwB8AIyqdt96UgCmAlM7o0fgIKC5kAacCrwNDKj2/XWD/kYDzwDXEXxQjk7ld6gb4FvA68CQeP1fwFOpei4BHiVsXxLwe+Cmat9/N+tyOjCxgzpy0XdvD4T9iEckri8EFgMje8qzWXUl9aUA3Arclkp7DTiv2n3rSaEMg9ehHoFZwMWJ60ZgGfDP1b6/btDf9sBYYGKRl3RJ3RBGdhYB0xIyI2NdX4nXGwKrgSkJmd2izNhq66AbdVmOweu0vvtCAGakrjeN93h0T3k2fUgzX/Yl/EGTPA/sV4W+9GZK6lHShoSvwHUyZtYCvEQN6NrM5pjZW1l5ZepmR2BESmYR8F5CZm/Cyyj5d3gRWEP4+/QJSumyHHLUd6/HzL6RSip4z+kPPePZdIOXE5I2AoYBC1NZTbifwCwOkPRIHMe/VdKXoGw9bhVj1/X6lKObMWXKWEwD1r2cPqD2dHx8nLt7StINkrZJ5OWl777I3wCfAnfF66o/m27w8qMwYboqlb4KGNTNfenpLALeAiab2V7A7cAzknanPD26rouTl/4GAy0Wx4uKyNQC7wEvE74c9iIMrc+WVHh5+/OagSQB3wW+Y2bNMbnqz6YbvPxYHuP+qfT+wIpu7kuPxszuM7MzzezTeH0jYeHAmZSnR9d1cfLS33KgMb64isn0eczsajO72Mxa4wv2QmApcFoU8ec1mx8C75rZxYm0qj+bbvBywsyWAh8Bo1JZowirkJzSvE2YcC5Hj/MSacVkapVydPNOmTIiLBgAQFIDsDE1rONo9OYRFrpAfvruM0g6HdgOOC6VVfVn0w1evswE0vvFJsR0JyLpAknpoYfNCcNH0IEezexDwoT1OhlJjcBO1Liuy9TNnwjDykmZEcAWCZnHCSvhkn+HXYB6akjHki7LSF73rOao7z6BpBOAycChZtYqaYykfaGHPJvVXsralwJhBdLHwPh4PZkw/OH78Nrr6THaLzvem7DC6oBy9UjYz7OIuMcH+BdqZB9eQgcTKb4Pr6RuCHudXgMGx+sfAU8RjxuMaZcAD9O21+l39LF9eGXoch5wYOL6KKAF2CVvfff2ABwe9bU3wRhNAE4CpveUZ9P94eWImc2WdCRwvaSVhP9xTDKzpg6K1hoXAtMkHUIYZWgADjOzu6E8PZrZnZI2Be6TtIKwGmySxXnBvoykfsCDwPCYdLOkBRaXhZejGzP7qaQNgCclrQIWAAdbfJtEzgQuAp4jGIOXaJu76hN0pEvgbOB0Sf8G9ANagf3N7MVCHTnqu7dzA+Hf8mOp9HMLP6r9bPrh0Y7jOE5N4HN4juM4Tk3gBs9xHMepCdzgOY7jODWBGzzHcRynJnCD5ziO49QEbvAcx+kUkoZWuw8F4nJ2x8nEDZ5Tk0jaVlJT9HJtkhZLujhD7ocxz6L833ZQ73FRbo2kx7rsBtramyTpI0mTurqtjLaHS7oTOLgL27ha0nMVFDlD0q/j/jrHaYcbPKcmMbM3zGwUcEtMOs3M/j1D7izCaRFPm9koM/tDB/VeE+t9P/dOZzM0EdYhaWo00hO7otF4NNyDwHtmdl0XtVEHfB34nwqKXUA4d/GWWN5x1uEPhFPr3Bjjo0rIHJWQ61GY2e+BDWLcnUwnGJb1/pOQI7sRnIGWbfAs+EU7keAs9IQu6pfTS3GD59Q6DwBLgP3iIbXtkDSc8PL8XXd3rFzMbHnHUvkRnfROAy4zs9Vd2NQUwhfky5UUsuAh+3rgbEn1XdIzp1fiBs+pacyslTCs2UA4/DbNPwKPmdkHCkyTNEfS0ji3d7ukHcptT9I4STdLWiipOdb1rQzfXkjaV9KjsZ2Fkl6S9BNJW8f8i+J8oUm6NlHufqBwyv+MKNMU5xcXRflPY9q2scypsT+Fucq0P7Ikfw8MIBzem+zvOcn+SDpE0suSPo73sY2kutjv9+I9/VjBtUsWU4C7E/UPUvC08WYsO1/SDEnfyCg7k3DC/l4l7sOpNap9wrYHD9UOwB6EA2j/mJH3KHB4/P0r4BPCvJKADYEZMW2HVLn5BEOZTBtP8PpwOzAspn2V4LTyNynZIwgeJM4BGmN7BxPcolyakjXg2lTa1Jg+MeOeXiXMMdal0g8CHi9DX1fHujM9U8S814DzYt9HAm8CrxCGQPeIcodE2RMz6tgy5n01kXYtwfv4ZvF6Y4JBnJ9RfrtY/jvVfr489JzgX3hOzWNmTxPcmnxJ0jaFdEmfJ/jZulPSXoTFK5eZ2T0W+BD4JsGbw/llNHU5sAFwipkti23fTzAgJxQWmMSl9T8HXjCz75tZS2zvdsJLv7NcA3we2D+VfjxwVRnltwGWWWnPFBsB58a+LyLMgW4PjIj6xsK84/uEr+g0UwierR9NpB0EzDSzBbH8B4RT87Ocfi5M9NVxAB/SdJwCN8U4uXjlCOBOM1sJHBbTHkwWii/dd4B9SwzNIWkT4MvAbFvfXdRdMT40xvsT3NXcn1HVeYQvzc5wA8HNzfGJ/o0kDP/dWkb5jQnGqBQvWBguLrAgxrNTcn8mGN80U4AHzWxVIq0ZODYOlTYCmNkcM/tKRvlC/zbpoJ9ODeEGz3EChVWYRybSjkykj43xrYk5sSZJTYQX9lrCV00xtiYMSy7MyCsYg7GpeEFa0MzeN7O5Je+kA+IX173AgXEBCsAxwG1mtqKMKgp+4UqxJHW9ukT6oGRC/MKdyPqrM48DVhLmXJskXSNpzyLtF/rn+/GcdbjBcxzAzF4HXgTGSNpD0vaEJfEPp0T3s7AfLxmGmdkQM2vOuVtd+bK+GuhP2xdtucOZEOYcGzuQWVthepL9CYuI7kkmxqHQMcA/EP4uRxCchF6aUUdBd+UYcKdGcIPnOG0k9+QdCdxsZmti2v/GePN0IUkjy9jg/TZhEcVmGXmFtDdT8ecy2hoShx87yz3AIuB4SXsAa8ys3BNNFtDmIbwrmAI8n/4PhKSGOCc4w8wOBUYDzwKnFVauJtgwxn/pwn46vQw3eI7Txm8JXyCHEr4ekpvNC/vwspbAf48ONmCb2RLgEWBXSaNS2QfGuHDqy4PAR4TVoGl+DVxSqq1IYQ6rAUDSgZJOTvSnlTCXt1Os7+oy6iwwBxgoaeMKypRFPB1lMtmbzVskbVq4MLOFtP2N0ga4MC84J+8+Or0XN3iOE4mr/x4jLMpYaWazEnlPE1ZOHi3p8LifrF7ScYSvwXPKaGIaYQvDLyQNg3AWJmE48Uozezy29Qnwr8B2ks6S1Bj3AB5F+Pq5qIy2Xo/xdtGITAO2TckUjNyuBONXLjNjvFMFZcrlr4FNKX66ykVxjq+w0OafgLmE7QpJdo7xQ13QR6e3Uu19ER489KRAMD4GfDcjT8DJhJfrB8C7hBfzFxMyxwFNhD10q+PvfRL54whfi02EVYevAqcBymhvP4IBXkwYRnwI2D2Rf1GsxwiLOZqAsYn878VyTYQVnyMz2niGsFilEh01AO8BP0uln5LRn3rgTmBZTF8K/IwwHNkUdbQm/j4A+CHwbpF2jyEstnmPsPhnHvALYFSG7APAE9V+njz0rCAzq8A8Oo7Tl5D0BHCRmd3ToXD7cocT9gSONbM/59ifVwib30/tRB27A08Ce5nZs3n1zen9FN035DhO3yN6OWg1s9VxoccYsvf7lcTMbpa0M3CvpC9bmKPsbN/6EfYBzuhEHWMJc6GnurFz0vgXnuPUEJKmx5/nEk5cecPMLuhEfccALWb22xy612kkTQPeMrP7qt0Xp+fhBs9xaghJ3yTM/a0GngCOtvanmThOn8UNnuM4jlMT+LYEx3EcpyZwg+c4juPUBG7wHMdxnJrADZ7jOI5TE7jBcxzHcWoCN3iO4zhOTfD/Fa0Mmb5k93QAAAAASUVORK5CYII=\n"
                },
                "metadata": {
                  "needs_background": "light"
                }
              }
            ]
          }
        },
        "b3da2edc30074105834a5c1fcfe58db9": {
          "model_module": "@jupyter-widgets/base",
          "model_name": "LayoutModel",
          "model_module_version": "1.2.0",
          "state": {
            "_model_module": "@jupyter-widgets/base",
            "_model_module_version": "1.2.0",
            "_model_name": "LayoutModel",
            "_view_count": null,
            "_view_module": "@jupyter-widgets/base",
            "_view_module_version": "1.2.0",
            "_view_name": "LayoutView",
            "align_content": null,
            "align_items": null,
            "align_self": null,
            "border": null,
            "bottom": null,
            "display": null,
            "flex": null,
            "flex_flow": null,
            "grid_area": null,
            "grid_auto_columns": null,
            "grid_auto_flow": null,
            "grid_auto_rows": null,
            "grid_column": null,
            "grid_gap": null,
            "grid_row": null,
            "grid_template_areas": null,
            "grid_template_columns": null,
            "grid_template_rows": null,
            "height": null,
            "justify_content": null,
            "justify_items": null,
            "left": null,
            "margin": null,
            "max_height": null,
            "max_width": null,
            "min_height": null,
            "min_width": null,
            "object_fit": null,
            "object_position": null,
            "order": null,
            "overflow": null,
            "overflow_x": null,
            "overflow_y": null,
            "padding": null,
            "right": null,
            "top": null,
            "visibility": null,
            "width": null
          }
        },
        "815214da36dd45ac84821b8ace09a142": {
          "model_module": "@jupyter-widgets/base",
          "model_name": "LayoutModel",
          "model_module_version": "1.2.0",
          "state": {
            "_model_module": "@jupyter-widgets/base",
            "_model_module_version": "1.2.0",
            "_model_name": "LayoutModel",
            "_view_count": null,
            "_view_module": "@jupyter-widgets/base",
            "_view_module_version": "1.2.0",
            "_view_name": "LayoutView",
            "align_content": null,
            "align_items": null,
            "align_self": null,
            "border": null,
            "bottom": null,
            "display": null,
            "flex": null,
            "flex_flow": null,
            "grid_area": null,
            "grid_auto_columns": null,
            "grid_auto_flow": null,
            "grid_auto_rows": null,
            "grid_column": null,
            "grid_gap": null,
            "grid_row": null,
            "grid_template_areas": null,
            "grid_template_columns": null,
            "grid_template_rows": null,
            "height": null,
            "justify_content": null,
            "justify_items": null,
            "left": null,
            "margin": null,
            "max_height": null,
            "max_width": null,
            "min_height": null,
            "min_width": null,
            "object_fit": null,
            "object_position": null,
            "order": null,
            "overflow": null,
            "overflow_x": null,
            "overflow_y": null,
            "padding": null,
            "right": null,
            "top": null,
            "visibility": null,
            "width": null
          }
        },
        "40e8b4f60bf24368bff17eb278551a51": {
          "model_module": "@jupyter-widgets/controls",
          "model_name": "SliderStyleModel",
          "model_module_version": "1.5.0",
          "state": {
            "_model_module": "@jupyter-widgets/controls",
            "_model_module_version": "1.5.0",
            "_model_name": "SliderStyleModel",
            "_view_count": null,
            "_view_module": "@jupyter-widgets/base",
            "_view_module_version": "1.2.0",
            "_view_name": "StyleView",
            "description_width": "",
            "handle_color": null
          }
        },
        "4d6070ce70214290872f1797832568d3": {
          "model_module": "@jupyter-widgets/base",
          "model_name": "LayoutModel",
          "model_module_version": "1.2.0",
          "state": {
            "_model_module": "@jupyter-widgets/base",
            "_model_module_version": "1.2.0",
            "_model_name": "LayoutModel",
            "_view_count": null,
            "_view_module": "@jupyter-widgets/base",
            "_view_module_version": "1.2.0",
            "_view_name": "LayoutView",
            "align_content": null,
            "align_items": null,
            "align_self": null,
            "border": null,
            "bottom": null,
            "display": null,
            "flex": null,
            "flex_flow": null,
            "grid_area": null,
            "grid_auto_columns": null,
            "grid_auto_flow": null,
            "grid_auto_rows": null,
            "grid_column": null,
            "grid_gap": null,
            "grid_row": null,
            "grid_template_areas": null,
            "grid_template_columns": null,
            "grid_template_rows": null,
            "height": null,
            "justify_content": null,
            "justify_items": null,
            "left": null,
            "margin": null,
            "max_height": null,
            "max_width": null,
            "min_height": null,
            "min_width": null,
            "object_fit": null,
            "object_position": null,
            "order": null,
            "overflow": null,
            "overflow_x": null,
            "overflow_y": null,
            "padding": null,
            "right": null,
            "top": null,
            "visibility": null,
            "width": null
          }
        }
      }
    }
  },
  "nbformat": 4,
  "nbformat_minor": 0
}