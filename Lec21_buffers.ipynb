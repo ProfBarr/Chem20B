{
  "nbformat": 4,
  "nbformat_minor": 0,
  "metadata": {
    "colab": {
      "provenance": [],
      "authorship_tag": "ABX9TyOs/GNB0tBLyMDGCmiatMaT",
      "include_colab_link": true
    },
    "kernelspec": {
      "name": "python3",
      "display_name": "Python 3"
    },
    "language_info": {
      "name": "python"
    }
  },
  "cells": [
    {
      "cell_type": "markdown",
      "metadata": {
        "id": "view-in-github",
        "colab_type": "text"
      },
      "source": [
        "<a href=\"https://colab.research.google.com/github/ProfBarr/Chem20B/blob/main/Lec21_buffers.ipynb\" target=\"_parent\"><img src=\"https://colab.research.google.com/assets/colab-badge.svg\" alt=\"Open In Colab\"/></a>"
      ]
    },
    {
      "cell_type": "markdown",
      "source": [
        "# Working with buffers\n",
        "\n",
        "We want to calculate the $[H^{+}]$ as we change the add acid to the reaction.\n",
        "\n",
        "While the reaction is taking place, we will calculate the what the concentration of the components are in the solution."
      ],
      "metadata": {
        "id": "6PUBdeOrSb7f"
      }
    },
    {
      "cell_type": "markdown",
      "source": [
        "# Reaction taking place at 0 mL of acid\n",
        "$$\\mathrm{NH_3(aq) + H_2O(l) ⇌ NH_4^+(aq) + OH^-(aq)}$$\n",
        "\n",
        "# What is the pH before we add acid (0 mL)\n",
        "At $0 \\ mL$ acid added, only major component in our system is ammonia:\n",
        "\n",
        "let $x = [OH^-]$ at equilibrium\n",
        "\n",
        "| Compounds  | Initial                                                  | Change | Equilibrium |\n",
        "| ---------- | -------------------------------------------------------- | ------ | ----------- |\n",
        "| $$NH_3$$   | $$\\frac{25 \\ mL \\times 0.10 \\ M}{100 \\ mL} = 0.025 \\ M$$ | $$-x$$ | $$0.025-x$$ |\n",
        "| $$NH_4^+$$ | $$0$$                                                    | $$+x$$ | $$x$$       |\n",
        "| $$OH^-$$   | $$10^{-7}$$                                              | $$+x$$ | $$x$$       |\n",
        "\n",
        "$$K_b = \\frac{x^2}{0.025 - x}$$\n",
        "\n",
        "\n",
        "\n",
        "\n"
      ],
      "metadata": {
        "id": "j3QEvXwDUe4H"
      }
    },
    {
      "cell_type": "markdown",
      "source": [
        "---\n",
        "## Assume 5% rule\n",
        "\n",
        "**Assume that $x<<0.025$**\n",
        "\n",
        "$$K_b \\sim \\frac{x^2}{0.025}$$\n",
        "\n",
        "$$x^2 = 0.025\\times K_b = 0.025 \\cdot 1.8\\times 10^{-5} = $$"
      ],
      "metadata": {
        "id": "IgxOfmavZCNX"
      }
    },
    {
      "cell_type": "code",
      "execution_count": null,
      "metadata": {
        "id": "7YsHTbV2Sapj",
        "colab": {
          "base_uri": "https://localhost:8080/"
        },
        "outputId": "37f7ccac-12cd-443f-837a-4d93e7ee3409"
      },
      "outputs": [
        {
          "output_type": "stream",
          "name": "stdout",
          "text": [
            "x squarred is  4.5000000000000003e-07\n",
            "x is  6.7e-04  M\n"
          ]
        }
      ],
      "source": [
        "from numpy.core.arrayprint import format_float_scientific\n",
        "import numpy as np\n",
        "import matplotlib.pyplot as plt\n",
        "\n",
        "kb = 1.8E-5\n",
        "xsquared = 0.025*kb\n",
        "print(\"x squarred is \", xsquared)\n",
        "x0 = np.sqrt(xsquared)\n",
        "x0_sci = format_float_scientific(x0,1)\n",
        "print(\"x is \", x0_sci, \" M\")"
      ]
    },
    {
      "cell_type": "markdown",
      "source": [
        "## Is our assumption valid?\n",
        "We need to check if $x<<0.025$\n",
        "\n",
        "$$0.025 \\cdot 0.05 > x $$"
      ],
      "metadata": {
        "id": "_CnP2KmEbeu8"
      }
    },
    {
      "cell_type": "code",
      "source": [
        "assumption_check = 0.025*0.05\n",
        "assumption_check = format_float_scientific(assumption_check, 2)\n",
        "message = f\"We calculated our x value to be {x0_sci} M. This value is smaller than our check which is {assumption_check} M. Our check is valid!!!\"\n",
        "print(message)"
      ],
      "metadata": {
        "id": "LlrOOLc_aZBK",
        "colab": {
          "base_uri": "https://localhost:8080/"
        },
        "outputId": "c107ac52-cd62-4d99-e8d0-d046e462ebe1"
      },
      "execution_count": null,
      "outputs": [
        {
          "output_type": "stream",
          "name": "stdout",
          "text": [
            "We calculated our x value to be 6.7e-04 M. This value is smaller than our check which is 1.25e-03 M. Our check is valid!!!\n"
          ]
        }
      ]
    },
    {
      "cell_type": "markdown",
      "source": [
        "$$[OH^-] = 6.7\\times 10^{-4} \\ M $$\n",
        "\n",
        "Now we can calculate the $pOH$.\n",
        "\n",
        "Because $pH + pOH = pK_w$\n",
        "\n",
        "To calculate the pH we need to subtract the pOH from 14:\n",
        "$$pH = 14 - pOH$$"
      ],
      "metadata": {
        "id": "yvRtS_82cwyg"
      }
    },
    {
      "cell_type": "code",
      "source": [
        "pOH_0mL = -np.log10(x0)\n",
        "pH_0mL = 14 - pOH_0mL\n",
        "print(f\"The pH before we add any acid is {pH_0mL}\")"
      ],
      "metadata": {
        "id": "RtsgSnNdcHcr",
        "colab": {
          "base_uri": "https://localhost:8080/"
        },
        "outputId": "d29657a2-2b04-493b-ecf5-0fdf5472464b"
      },
      "execution_count": null,
      "outputs": [
        {
          "output_type": "stream",
          "name": "stdout",
          "text": [
            "The pH before we add any acid is 10.826606256887672\n"
          ]
        }
      ]
    },
    {
      "cell_type": "markdown",
      "source": [
        "The reaction above is the weak acid/base reaction. There is no additional acid, or base added to the mixture so we can follow the same steps as we have done in previous calculations.\n",
        "\n",
        "___\n",
        "\n",
        "\\\\\n",
        "\n",
        "\n",
        "# Reaction taking place:\n",
        "\n",
        "1. **ALWAYS STOCHIOMETRY**\n",
        "- React away moles of ammonia with moles of hydronium\n",
        "$$\\mathrm{NH_3(aq) + H_3O^+(aq) ⟶ NH_4^+(aq) + H_2O(l)}$$\n",
        "\n",
        "## Let's react 5.0 mL of acid with the base.\n",
        "\n",
        "First starting with the mmoles of acid:\n",
        "$$mole_{acid} = 0.25 \\ M \\cdot 5.0 \\ mL = 1.25 \\ mmol$$\n",
        "\n",
        "Now we will compare that to the moles of base\n",
        "$$mole_{NH_3} = 0.10 \\ M \\cdot 25.0 \\ mL = 2.50 \\ mmol$$\n",
        "\n",
        "The acid is the limiting reagent, so all of the hydronium is used up. For every mole of hydronium that reacted, we produce 1 mole of $[HA]$. That means we produced $1.25 \\ mmol$ of $[HA]$.\n",
        "\n",
        "Subtracting 1.25 mmol from 2.50 mmol of base give us $1.25 \\ mmol \\ [A^-]$\n",
        "___\n",
        "\n",
        "# pH at the $\\frac{1}{2}$ equivilance point\n",
        "\n",
        "$$[HA] = [A^-]$$\n",
        "\n",
        "$$K_b = \\frac{[OH][HA]}{[A^-]}$$\n",
        "\n",
        "$$K_b = [OH^-] \\ \\mathrm{and} \\ K_a = [H^+]$$\n"
      ],
      "metadata": {
        "id": "YVPxjnCTeKyH"
      }
    },
    {
      "cell_type": "code",
      "source": [
        "pOH_half_equiv = -np.log10(kb)\n",
        "print(f\"The pOH is then {pOH_half_equiv}.\")"
      ],
      "metadata": {
        "id": "YFG__4_0dnWw",
        "colab": {
          "base_uri": "https://localhost:8080/"
        },
        "outputId": "ca711bac-30db-47b9-a543-99ef57959118"
      },
      "execution_count": null,
      "outputs": [
        {
          "output_type": "stream",
          "name": "stdout",
          "text": [
            "The pOH is then 4.7447274948966935.\n"
          ]
        }
      ]
    },
    {
      "cell_type": "code",
      "source": [
        "pH_half_equiv = 14 - pOH_half_equiv\n",
        "print(f\"The pH is then {pH_half_equiv}.\")"
      ],
      "metadata": {
        "id": "MnkJKw72jNBS",
        "colab": {
          "base_uri": "https://localhost:8080/"
        },
        "outputId": "a1437162-a28e-4b51-f27c-84e2cb19e4b9"
      },
      "execution_count": null,
      "outputs": [
        {
          "output_type": "stream",
          "name": "stdout",
          "text": [
            "The pH is then 9.255272505103306.\n"
          ]
        }
      ]
    },
    {
      "cell_type": "markdown",
      "source": [
        "## What is the pH after 6.0 mL of acid added?\n",
        "\n",
        "### Reaction taking place:\n",
        "\n",
        "1. **ALWAYS STOCHIOMETRY**\n",
        "- React away moles of ammonia with moles of hydronium\n",
        "$$\\mathrm{NH_3(aq) + H_3O^+(aq) ⟶ NH_4^+(aq) + H_2O(l)}$$\n",
        "\n",
        "Let's react 6.0 mL of acid with the base.\n",
        "\n",
        "First starting with the mmoles of acid:\n",
        "$$mole_{acid} = 0.25 \\ M \\cdot 6.0 \\ mL = 1.50 \\ mmol$$\n",
        "\n",
        "As before, we will compare that to the moles of base\n",
        "$$mole_{NH_3} = 0.10 \\ M \\cdot 25.0 \\ mL = 2.50 \\ mmol$$\n",
        "\n",
        "The acid is the limiting reagent, so all of the hydronium is used up. For every mole of hydronium that reacted, we produce 1 mole of $[HA]$. That means we produced $1.50 \\ mmol$ of $[HA]$.\n",
        "\n",
        "Subtracting 1.5 mmol from 2.50 mmol of base give us $1.00 \\ mmol \\ [A^-]$\n",
        "\n",
        "$$\\mathrm{NH_3(aq) + H_2O(l) ⇌ NH_4^+(aq) + OH^-(aq)}$$\n",
        "\n",
        "or\n",
        "\n",
        "$$\\mathrm{A^-(aq) + H_2O(l) ⇌ HA(aq) + OH^-(aq)}$$\n",
        "\n",
        "\\\\\n",
        "let $x = [OH^-]$ at equilibrium \\\\\n",
        "\n",
        "\\\\\n",
        "\n",
        "| Compounds  | Initial                                                  | Change | Equilibrium |\n",
        "| ---------- | -------------------------------------------------------- | ------ | ----------- |\n",
        "| $$NH_3$$   | $$\\frac{1.00 \\ mmol}{V} $$ | $$-x$$ | $$\\frac{1.00 \\ mmol}{V} - x$$ |\n",
        "| $$NH_4^+$$ | $$\\frac{1.50 \\ mmol}{V}$$   | $$+x$$ | $$\\frac{1.50 \\ mmol}{V} +x$$      |\n",
        "| $$OH^-$$   |  $$0$$                                              | $$+x$$ | $$x$$       |\n",
        "\n",
        "\\\\\n",
        "\n",
        "$$ K_b = \\frac{x \\cdot \\big (\\frac{1.50 \\ mmol}{V} + x\\big )}{\\big (\\frac{1.00 \\ mmol}{V} - x\\big )}$$\n",
        "___\n",
        "\\\\\n",
        "\n",
        "### Let's assume x is much smaller than $\\frac{1.00}{V}$\n",
        "\n",
        "$$K_b = \\frac{x \\cdot \\big (\\frac{1.50 \\ mmol}{V} \\big )}{\\big (\\frac{1.00 \\ mmol}{V} \\big )}$$\n",
        "\n",
        "This equation can simplify droping the volumes since both products are divided by the volume!\n",
        "\n",
        "$$K_b = \\frac{x \\cdot 1.50}{1.00} $$\n",
        "\n",
        "So our $x = 1.2 \\times 10^{-5} $. What should we do now?\n",
        "___\n",
        "\n",
        "\n",
        "\\\\\n",
        "\n",
        "\\\\\n",
        "Check our assumption!\n",
        "\n",
        "The total volume $V$ is 100 + 6 mL = 106 mL\n",
        "\n",
        "Is $\\frac{1.00}{106}>> 1.2\\times 10^{-5}$ ? \n",
        "\n",
        "YES!\n",
        "\n",
        "Therefore $pOH = -\\log(1.2\\times 10^{-5})$\n"
      ],
      "metadata": {
        "id": "fZtKpE4kjyAr"
      }
    },
    {
      "cell_type": "code",
      "source": [
        "pOH_6mL = -np.log10(1.2E-5)\n",
        "pH_6mL = 14 - pOH_6mL\n",
        "print(f\"The pH after adding 6.0 mL of acid is {pH_6mL}.\")"
      ],
      "metadata": {
        "id": "Jee8FGQ1jlWy",
        "colab": {
          "base_uri": "https://localhost:8080/"
        },
        "outputId": "08c8e9a1-fc41-4a23-8747-b1b2c831a50f"
      },
      "execution_count": null,
      "outputs": [
        {
          "output_type": "stream",
          "name": "stdout",
          "text": [
            "The pH after adding 6.0 mL of acid is 9.079181246047625.\n"
          ]
        }
      ]
    },
    {
      "cell_type": "markdown",
      "source": [
        "____\n",
        "# What is the pH after 10.0 mL of acid?\n",
        "\n",
        "1. **ALWAYS STOCHIOMETRY**\n",
        "- React away moles of ammonia with moles of hydronium\n",
        "$$\\mathrm{NH_3(aq) + H_3O^+(aq) ⟶ NH_4^+(aq) + H_2O(l)}$$\n",
        "\n",
        "Let's start with the acid\n",
        "\n",
        "First starting with the mmoles of acid:\n",
        "$$mole_{acid} = 0.25 \\ M \\cdot 10.0 \\ mL = 2.50 \\ mmol$$\n",
        "\n",
        "Base:\n",
        "$$mole_{NH_3} = 0.10 \\ M \\cdot 25.0 \\ mL = 2.50 \\ mmol$$\n",
        "\n",
        "These values are equal!\n",
        "\n",
        "All of the $[A^-]$ became $[HA]$!\n",
        "\n",
        "$$\\mathrm{HA(aq) + H_2O(l) ⇌ A^-(aq) + H_3O^+(aq)}$$\n",
        "\n",
        "\\\\\n",
        "let $x = [H_3O^+]$ at equilibrium \\\\\n",
        "\n",
        "\\\\\n",
        "\n",
        "| Compounds  | Initial                                                  | Change | Equilibrium |\n",
        "| ---------- | -------------------------------------------------------- | ------ | ----------- |\n",
        "| $$NH_4^+$$   | $$\\frac{2.50 \\ mmol}{V} $$ | $$-x$$ | $$\\frac{2.50 \\ mmol}{V} - x$$ |\n",
        "| $$NH_3$$ | $$0$$   | $$+x$$ | $$ x$$      |\n",
        "| $$H_3O^+$$   |  $$0$$           | $$+x$$ | $$x$$       |\n",
        "\n",
        "$$K_a = \\frac{K_w}{K_b}= 5.6 \\times 10^{-10}$$\n",
        "\n",
        "\\\\\n",
        "\n",
        "$$K_a = \\frac{x^2}{\\frac{2.5}{110}-x}$$\n",
        "\n",
        "Same pattern as before! Let's assume $x<< \\frac{2.5}{110}$.\n",
        "\n",
        "$$K_a = \\frac{x^2}{\\frac{2.5}{110}}$$\n",
        "\n",
        "\\\\\n",
        "\n",
        "Using the same process as before find that the $x = 3.6 \\times 10^{-6}$.\n",
        "(This value is much smaller than $0.05 \\cdot \\frac{2.5}{110}$ $[1.1\\times 10^{-3}]$)\n",
        "\n",
        "$$pH = 5.45$$\n",
        "\n",
        "\\\\\n",
        "\n",
        "\n",
        "## **Therefore, when the strong acid has the same number of moles as the weak base, we calculate the pH the same way as we do a salt!**"
      ],
      "metadata": {
        "id": "r2Iq1aUAqgD0"
      }
    },
    {
      "cell_type": "markdown",
      "source": [
        "# Just because we can...\n",
        "If we go past the equivalence point, how do we calculate the pH?\n",
        "\n",
        "11 mL of Acid added would have 1.0 mL in excess so thee $H^+$ moles would be: $$1.0 \\ mL \\cdot 0.25 \\ M = 0.25 \\ mmol$$\n",
        "\n",
        "Total volume would be 111 mL\n",
        "\n",
        "$$[H^+] = 2.3 \\times 10^{-3} \\ M$$\n",
        "\n",
        "$$pH = -\\log_{10}(2.3 \\times 10^{-3} ) = 2.65$$ \n",
        "\n",
        "\\\\\n",
        "\n",
        "Because of a topic of the common ion effect, if you did calculate the pH using the equilibrium of $NH_4^+$ reacting with water, you would find that only $5.5\\times 10^-9 \\ M$ of the ammonium reacts to form ammonnia so the $[H^+]$ from this reaction is not influential. "
      ],
      "metadata": {
        "id": "VOOQUraBPgsm"
      }
    },
    {
      "cell_type": "markdown",
      "source": [
        "# **Plotting the function**\n",
        "\n",
        "After calculating the pH at a few places we should have enough information to make a plot.\n",
        "\n",
        "We have found the following points\n",
        "\n",
        "| mL of acid | pH    |\n",
        "| ---------- | ----- |\n",
        "| 0          | 10.83 |\n",
        "| 5          | 9.26  |\n",
        "| 6          | 9.08  |\n",
        "| 10         | 5.45  |\n",
        "| 11         | 2.65  |\n",
        "\n",
        "\\\\\n",
        "**Additional points**\n",
        "\n",
        "|  mL of acid | pH     |\n",
        "| ----------------- | ---- |\n",
        "| 2                 | 9.86\n",
        "| 4                 | 9.43 |\n",
        "| 8                 | 8.65 |\n",
        "\n",
        "\n"
      ],
      "metadata": {
        "id": "AtTddSwIXUKG"
      }
    },
    {
      "cell_type": "code",
      "source": [
        "import numpy as np\n",
        "import matplotlib.pyplot as plt\n",
        "\n",
        "mL_added = [0, 2, 4, 5, 6, 8, 10, 11]\n",
        "calculated_pH = [10.83, 9.86, 9.43, 9.26, 9.08, 8.65, 5.45, 2.65]\n",
        "plt.plot(mL_added,calculated_pH, \"o-\")\n",
        "plt.grid()\n",
        "plt.xticks(size = 20)\n",
        "plt.yticks(size = 20)\n",
        "plt.ylabel(\"pH\", size = 32)\n",
        "plt.xlabel(\"mL of strong acid added\", size = 32)"
      ],
      "metadata": {
        "colab": {
          "base_uri": "https://localhost:8080/",
          "height": 328
        },
        "id": "y5uNFWlQXTxQ",
        "outputId": "b22a0e63-a6b4-4af1-e569-08fca93c356b"
      },
      "execution_count": null,
      "outputs": [
        {
          "output_type": "execute_result",
          "data": {
            "text/plain": [
              "Text(0.5, 0, 'mL of strong acid added')"
            ]
          },
          "metadata": {},
          "execution_count": 8
        },
        {
          "output_type": "display_data",
          "data": {
            "text/plain": [
              "<Figure size 432x288 with 1 Axes>"
            ],
            "image/png": "[encoded data removed]"
          },
          "metadata": {
            "needs_background": "light"
          }
        }
      ]
    },
    {
      "cell_type": "code",
      "source": [
        "import numpy as np\n",
        "import matplotlib.pyplot as plt\n",
        "\n",
        "kb = 1.8E-5\n",
        "kw = 1.008E-14\n",
        "xval = np.linspace(0.001,20,1000) # mL of acid added to experiment\n",
        "acid_concentration = 0.25 # molarity of strong acid\n",
        "initial_acid_mole_val = xval*acid_concentration # mmols of acid injected into solution\n",
        "initial_base_value = 2.50 ## mmols of base\n",
        "v_total_vals = 100+ xval # mL of solution\n",
        "\n",
        "### Good approximation -- used to make plot ###\n",
        "# Note: this approximation breaks down around the inflection point for really weak bases\n",
        "\n",
        "# Creates array for plotting\n",
        "molarity_OH = np.array([])\n",
        "\n",
        "## [OH^-]^3 +(y+Kb)[OH^-]^2 + (-Kw -Kb*c +Kb*y)[OH^-] - KbKw = 0\n",
        "\n",
        "for x in range(len(xval)):\n",
        "  base_concentration_max = initial_base_value/v_total_vals[x]\n",
        "  y = acid_concentration*xval[x]/v_total_vals[x]\n",
        "  a = 1\n",
        "  b = y+kb\n",
        "  c = -kw -kb*(base_concentration_max-y)\n",
        "  d = -kb*kw\n",
        "  x_root = np.roots([a, b, c, d])\n",
        "  for root in x_root:\n",
        "    if root > 0 and root < base_concentration_max:\n",
        "      x_root = root\n",
        "    else:\n",
        "      continue\n",
        "  molarity_OH = np.append(molarity_OH,x_root)\n",
        "pH_derivation = 14+ np.log10(molarity_OH)\n",
        "volume_added = xval\n",
        "careful_plot = plt.plot(volume_added, pH_derivation, \"b\", label = \"Careful approximation\")\n",
        "\n",
        "### Buffer approximation ###\n",
        "pH_from_buffer_calc = 14 +np.log10(kb* (initial_base_value - xval*acid_concentration)/(xval*acid_concentration))\n",
        "buffer_approximation = plt.plot(volume_added, pH_from_buffer_calc, \"--r\", label = \"Buffer approximation\")\n",
        "\n",
        "\n",
        "plt.grid()\n",
        "plt.xticks(size = 15)\n",
        "plt.yticks(size = 15)\n",
        "plt.ylabel(\"pH\", size = 28)\n",
        "plt.xlabel(\"mL of strong acid added\", size = 28)\n",
        "\n",
        "plt.legend(loc = 'upper right', prop={'size': 15})\n",
        "plt.scatter([5],14+np.log10(kb)) # 1/2 equiv point\n",
        "plt.scatter([10],5.45) # equiv point\n",
        "plt.annotate('1/2 equiv. point',(3.5,10.1))\n",
        "plt.annotate(\"equiv. point\",(10.5, 5.35))\n",
        "plt.xlim(0,20)\n",
        "plt.ylim(1,12)\n",
        "plt.rcParams['figure.figsize'] = [10,5]\n",
        "plt.show()\n"
      ],
      "metadata": {
        "id": "i2HX0lEgzRwI",
        "colab": {
          "base_uri": "https://localhost:8080/",
          "height": 398
        },
        "outputId": "f564aa03-661c-426c-ef8b-0cceeac59eb6"
      },
      "execution_count": null,
      "outputs": [
        {
          "output_type": "stream",
          "name": "stderr",
          "text": [
            "<ipython-input-2-a6863a3fdca3>:39: RuntimeWarning: invalid value encountered in log10\n",
            "  pH_from_buffer_calc = 14 +np.log10(kb* (initial_base_value - xval*acid_concentration)/(xval*acid_concentration))\n"
          ]
        },
        {
          "output_type": "display_data",
          "data": {
            "text/plain": [
              "<Figure size 720x360 with 1 Axes>"
            ],
            "image/png": "[encoded data removed]"
          },
          "metadata": {
            "needs_background": "light"
          }
        }
      ]
    },
    {
      "cell_type": "markdown",
      "source": [
        "# Buffer approximation\n",
        "$$K_b = \\frac{[HA][OH^-]}{[A^-]}$$\n",
        "\n",
        "$$[OH^-]\\sim K_b \\cdot \\frac{mole \\ A^-}{mole \\ HA}$$"
      ],
      "metadata": {
        "id": "2aE074bsNAjx"
      }
    }
  ]
}