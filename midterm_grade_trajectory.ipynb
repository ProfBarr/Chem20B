{
  "cells": [
    {
      "cell_type": "markdown",
      "metadata": {
        "id": "view-in-github",
        "colab_type": "text"
      },
      "source": [
        "<a href=\"https://colab.research.google.com/github/ProfBarr/Chem20B/blob/Work/midterm_grade_tragectory.ipynb\" target=\"_parent\"><img src=\"https://colab.research.google.com/assets/colab-badge.svg\" alt=\"Open In Colab\"/></a>"
      ]
    },
    {
      "cell_type": "markdown",
      "metadata": {
        "id": "k6jWouIee_90"
      },
      "source": [
        "# Midterm Grade Trajectory\n",
        "**Purpose:** The purpose of this Google Colab is to help you assess your grade trajectory. Your grade is not confirmed until everything is in. I hope this tool helps you see the direction you are heading towards.\n",
        "\n",
        "-\tJust like with the previous notebooks, remember to run each cell by clicking the [ ] to the left of the cells. \n",
        "-\tFollow the instructions to the right of the # to calculate your trajectory.\n",
        "-\tThis notebook is only an estimation and only a crude one at that. Prior to the first midterm, this notebook only takes about 25% of the class into account.\n",
        "-\tRemember that you have the power to grow! #GrowthMindset"
      ]
    },
    {
      "cell_type": "code",
      "execution_count": null,
      "metadata": {
        "id": "O-peS2hSe_94"
      },
      "outputs": [],
      "source": [
        "### Enter the score/percentage you earned for the following ###\n",
        "\n",
        "homework_1 = 57 # Value between 0 and 62\n",
        "quiz_1 = 20 # Value between 0 and 22 \n",
        "quiz_2 = 17 # Value between 0 and 24\n",
        "discussion_work =  3# How many discussion sections have you gone to?\n",
        "cs_percentage = 92 # What is the CS percentage on Bruinlearn?\n",
        "ls_percentage = 92 # What is the CS percentage on Bruinlearn?\n",
        "owl_percentage = 98 # What percentage do you have on the OWLV2 assignments?\n",
        "midterm_1_effective = (quiz_1/22 + quiz_2/22)/2*0.85 # This approximates your midterm score based on your quiz scores\n",
        "\n",
        "\n",
        "### When you find out your midterm scores, delete the # in front of the lines below ###\n",
        "\n",
        "#midterm_1 = # Actual midterm score (0-100)\n",
        "#group_midterm_1_score = #Actual group midterm score (0-102)\n",
        "#midterm_1_effective = (0.8*midterm_1/100 +0.2*group_midterm_1_score/102)"
      ]
    },
    {
      "cell_type": "code",
      "execution_count": null,
      "metadata": {
        "id": "_4BRSnvFe_96"
      },
      "outputs": [],
      "source": [
        "### Run these lines to approximate your grade tregectory ###\n",
        "\n",
        "### After you run the code scroll down to the bottom of the cell ###\n",
        "\n",
        "from IPython.display import HTML, display\n",
        "\n",
        "def set_css():\n",
        "  display(HTML('''\n",
        "  <style>\n",
        "    pre {\n",
        "        white-space: pre-wrap;\n",
        "    }\n",
        "  </style>\n",
        "  '''))\n",
        "get_ipython().events.register('pre_run_cell', set_css)\n",
        "\n",
        "\n",
        "def effective_discussion(participation):\n",
        "    if participation >= 3:\n",
        "        return 1\n",
        "    elif participation < 3 and participation > -.01:\n",
        "        return participation/3\n",
        "    else:\n",
        "        print(\"You may have the incorrect input for discussion work\")\n",
        "\n",
        "\n",
        "def effeective_homework(homework_score):\n",
        "    if homework_score/62 > 0.8:\n",
        "        return 5\n",
        "    elif homework_score/62 > 0.7:\n",
        "        return 4\n",
        "    elif homework_score/62 > 0.6:\n",
        "        return 3\n",
        "    elif homework_score/62 > 0.5:\n",
        "        return 2\n",
        "    elif homework_score/62 > 0.01:\n",
        "        return 1\n",
        "    else:\n",
        "        return 0\n",
        "\n",
        "\n",
        "def approximate_score(owl_percentage, cs_percentage, ls_percentage, discussion_work, quiz_1, quiz_2, midterm_1_effective, homework_1):\n",
        "    group1 = .05*(owl_percentage/100 + cs_percentage/100 +ls_percentage/100 + effective_discussion(discussion_work)) \n",
        "    group2 = (quiz_1/22 +quiz_2/24)/2*.12 + midterm_1_effective*.28 + midterm_1_effective/.8 * .26 \n",
        "    group3 = (effeective_homework(homework_1)/5)*.14\n",
        "    return group1 + group2 + group3\n",
        "\n",
        "\n",
        "def grade_tragectory(score):\n",
        "    if score > 0.88:\n",
        "        percent = int(score*100)\n",
        "        message = f\"Your tragectory is around {percent}%. That means that you are on track to earn some flavor of A. You're doing great! Keep up the hard work!\"\n",
        "        print(message)\n",
        "    elif score > 0.77:\n",
        "        percent = int(score*100)\n",
        "        message = f\"Your tragectory is around {percent}%. That means that you are on track to earn some flavor of B. Great job! Keep up the hard work!\"\n",
        "        print(message)\n",
        "    elif score > 0.68:\n",
        "        percent = int(score*100)\n",
        "        message = f\"Your tragectory is around {percent}%. That means that you are on track to pass earning at least a C. This is a perfectly fine score, however, if you want to change your tragectory, you are capable.\"\n",
        "        print(message)\n",
        "    else:\n",
        "        percent = int(score*100)\n",
        "        message = f\"Your tragectory is around {percent}%. That means that you are not on track to pass, so we should make a change to the study process. Less than 35% of the class has been completed so we can make an improvement.\"\n",
        "        print(message)\n",
        "\n",
        "\n",
        "grade_tragectory(approximate_score(owl_percentage, cs_percentage, ls_percentage, discussion_work, quiz_1, quiz_2, midterm_1_effective, homework_1))"
      ]
    },
    {
      "cell_type": "markdown",
      "metadata": {
        "id": "ghCLfbQse_98"
      },
      "source": [
        "## Midterm tragectory\n",
        "What score on the midterm would you need to earn a B? Use the cell below to see what value you would need. You can also so what score you would need to get an A or simply pass the class."
      ]
    },
    {
      "cell_type": "code",
      "execution_count": null,
      "metadata": {
        "id": "0aBbUgbbe_99"
      },
      "outputs": [],
      "source": [
        "midterm_1_effective = 0.65 # Change this value to a number between 0 and 1\n",
        "grade_tragectory(approximate_score(owl_percentage, cs_percentage, ls_percentage, discussion_work, quiz_1, quiz_2, midterm_1_effective, homework_1))"
      ]
    }
  ],
  "metadata": {
    "kernelspec": {
      "display_name": "base",
      "language": "python",
      "name": "python3"
    },
    "language_info": {
      "codemirror_mode": {
        "name": "ipython",
        "version": 3
      },
      "file_extension": ".py",
      "mimetype": "text/x-python",
      "name": "python",
      "nbconvert_exporter": "python",
      "pygments_lexer": "ipython3",
      "version": "3.9.12"
    },
    "orig_nbformat": 4,
    "vscode": {
      "interpreter": {
        "hash": "ad2bdc8ecc057115af97d19610ffacc2b4e99fae6737bb82f5d7fb13d2f2c186"
      }
    },
    "colab": {
      "provenance": [],
      "include_colab_link": true
    }
  },
  "nbformat": 4,
  "nbformat_minor": 0
}
