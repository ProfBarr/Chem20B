{
  "nbformat": 4,
  "nbformat_minor": 0,
  "metadata": {
    "colab": {
      "provenance": [],
      "authorship_tag": "ABX9TyNWfQMmFhPW3XQxszFBuO1X",
      "include_colab_link": true
    },
    "kernelspec": {
      "name": "python3",
      "display_name": "Python 3"
    },
    "language_info": {
      "name": "python"
    }
  },
  "cells": [
    {
      "cell_type": "markdown",
      "metadata": {
        "id": "view-in-github",
        "colab_type": "text"
      },
      "source": [
        "<a href=\"https://colab.research.google.com/github/ProfBarr/Chem20B/blob/main/work_calculator.ipynb\" target=\"_parent\"><img src=\"https://colab.research.google.com/assets/colab-badge.svg\" alt=\"Open In Colab\"/></a>"
      ]
    },
    {
      "cell_type": "markdown",
      "source": [
        "# Work Calculator\n",
        "## Purpose:\n",
        "You may use this notebook to see how the number of steps affects the ammount of work performed.\n",
        "\n"
      ],
      "metadata": {
        "id": "QfQXhVW6aEm3"
      }
    },
    {
      "cell_type": "code",
      "execution_count": 1,
      "metadata": {
        "id": "yKlbW695Z3aI"
      },
      "outputs": [],
      "source": [
        "## Import Libraries\n",
        "import numpy as np\n",
        "import matplotlib.pyplot as plt\n"
      ]
    },
    {
      "cell_type": "markdown",
      "source": [
        "## Input the initial conditions\n",
        "This code can also solve for one of the conditions\n",
        "\n",
        "*Note: it assumes constant* **T** *and* **n**."
      ],
      "metadata": {
        "id": "Sj50NaNqe-2D"
      }
    },
    {
      "cell_type": "code",
      "source": [
        "gas_values = []\n",
        "pressure_0 = 5.0 # p\n",
        "volume_0 = 1.0 # V\n",
        "pressure_f = 1.0 # p\n",
        "volume_f = pressure_0*volume_0/pressure_f \n",
        "gas_values =[[pressure_0,volume_0],[pressure_f,volume_f]]\n",
        "\n",
        "del_v = volume_f-volume_0 #vΔV\n",
        "work = -pressure_f*del_v \n",
        "message = f\"The ammount of work performed by the gas doing one step is {work} pΔV.\"\n",
        "print(message)"
      ],
      "metadata": {
        "id": "RflonqcPcSXG"
      },
      "execution_count": null,
      "outputs": []
    },
    {
      "cell_type": "markdown",
      "source": [
        "## Defining the functions\n",
        "\n",
        "This code defines the functions we will be using."
      ],
      "metadata": {
        "id": "epRcO1Foe5tu"
      }
    },
    {
      "cell_type": "code",
      "source": [
        "def d_v(steps):\n",
        "    d_v1 = del_v/steps\n",
        "    return d_v1\n",
        "\n",
        "def calc_steps(steps):\n",
        "    gas_values = np.zeros((steps+1,2))\n",
        "    gas_values[0] = [volume_0, pressure_0]\n",
        "    for step in range(steps):\n",
        "        v_new = (step+1)*d_v(steps) + volume_0  \n",
        "        p_new = pressure_0*volume_0/(v_new)\n",
        "        gas_values[step +1] = [v_new, p_new]\n",
        "    return gas_values\n",
        "\n",
        "def work(steps):\n",
        "    gaslist = calc_steps(steps)\n",
        "    workvalue = 0.0\n",
        "    for step in range (1,steps+1):\n",
        "        pval = gaslist[step][1]\n",
        "        workvalue += -pval *d_v(steps)\n",
        "    workvalue = format(workvalue,\".2f\")\n",
        "    message =f\"After performing our calculation, we find that the work performed was {workvalue} pΔV.\"\n",
        "    print(message)\n",
        "\n",
        "def make_steps(steps):\n",
        "    gaslist = calc_steps(steps)\n",
        "    xval =gaslist[:,0]\n",
        "    yval = gaslist[:,1]\n",
        "    graph_lines =[]\n",
        "    list_length=len(gaslist)\n",
        "    graph_lines = gaslist[0]\n",
        "    for values in range(list_length-1):\n",
        "        volume_value = gaslist[values][0]\n",
        "        pressure_value = gaslist[values+1][1]\n",
        "        graph_lines = np.append([graph_lines], [[volume_value, pressure_value], gaslist[values + 1]])\n",
        "        graph_lines = np.reshape(graph_lines,(2*(values+1)+1,2))\n",
        "    xline=graph_lines[:,0]\n",
        "    yline = graph_lines[:,1]\n",
        "    return[xline,yline,xval,yval]\n",
        "\n",
        "def plot_function(number_steps):\n",
        "    steps = number_steps\n",
        "    y_max = 0.2+np.max([pressure_0,pressure_f])\n",
        "    x_max = 0.2+np.max([volume_0,volume_f])\n",
        "    plt.figure(1)\n",
        "    xline = make_steps(steps)[0]\n",
        "    yline = make_steps(steps)[1]\n",
        "    xval = make_steps(steps)[2]\n",
        "    yval = make_steps(steps)[3]\n",
        "    plt.plot(xline,yline, color = \"orange\")\n",
        "    plt.fill_between(xline, yline, color='orange')\n",
        "    plt.scatter(xval,yval)\n",
        "    plt.xlabel('Volume (V)', fontsize=18, fontname=\"Serif\")\n",
        "    plt.rc('xtick', labelsize=14)\n",
        "    plt.rc('ytick', labelsize=14)\n",
        "    plt.xticks(fontname=\"Serif\")\n",
        "    plt.yticks(fontname=\"Serif\")\n",
        "    #plt.legend()\n",
        "    plt.ylim(0, y_max)\n",
        "    plt.xlim(0,x_max)\n",
        "    plt.ylabel('Pressure (p)', fontsize=18,fontname=\"Serif\")\n",
        "    plt.show()"
      ],
      "metadata": {
        "id": "zYtn_mMBc6UX"
      },
      "execution_count": 80,
      "outputs": []
    },
    {
      "cell_type": "markdown",
      "source": [
        "# Plot functions and calculate work"
      ],
      "metadata": {
        "id": "lIAXwQ66mSvD"
      }
    },
    {
      "cell_type": "code",
      "source": [
        "steps = 1 # Change this value to calculate work\n",
        "plot_function(steps)\n",
        "work(steps)"
      ],
      "metadata": {
        "id": "Ai6w0I2HjK2Z"
      },
      "execution_count": null,
      "outputs": []
    },
    {
      "cell_type": "code",
      "source": [],
      "metadata": {
        "id": "G2mWKIlFpFc5"
      },
      "execution_count": null,
      "outputs": []
    }
  ]
}